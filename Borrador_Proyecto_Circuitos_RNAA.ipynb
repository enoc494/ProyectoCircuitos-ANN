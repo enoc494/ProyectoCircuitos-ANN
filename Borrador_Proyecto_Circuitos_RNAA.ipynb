{
  "nbformat": 4,
  "nbformat_minor": 0,
  "metadata": {
    "colab": {
      "name": "Borrador Proyecto Circuitos -RNAA",
      "provenance": [],
      "authorship_tag": "ABX9TyPPJVrgiDzU3OFqBGHIMbzl",
      "include_colab_link": true
    },
    "kernelspec": {
      "name": "python3",
      "display_name": "Python 3"
    },
    "language_info": {
      "name": "python"
    }
  },
  "cells": [
    {
      "cell_type": "markdown",
      "metadata": {
        "id": "view-in-github",
        "colab_type": "text"
      },
      "source": [
        "<a href=\"https://colab.research.google.com/github/enoc494/ProyectoCircuitos-ANN/blob/main/Borrador_Proyecto_Circuitos_RNAA.ipynb\" target=\"_parent\"><img src=\"https://colab.research.google.com/assets/colab-badge.svg\" alt=\"Open In Colab\"/></a>"
      ]
    },
    {
      "cell_type": "code",
      "metadata": {
        "id": "b9fezt7z84ks"
      },
      "source": [
        ""
      ],
      "execution_count": null,
      "outputs": []
    },
    {
      "cell_type": "markdown",
      "metadata": {
        "id": "PHQXcULP84-6"
      },
      "source": [
        "Proyecto, borrador\n"
      ]
    },
    {
      "cell_type": "markdown",
      "metadata": {
        "id": "Ep_6_rg_86nW"
      },
      "source": [
        "# Parte I: Preprocesado y carga"
      ]
    },
    {
      "cell_type": "code",
      "metadata": {
        "id": "1LvBhhffBzN8",
        "colab": {
          "base_uri": "https://localhost:8080/"
        },
        "outputId": "150c956b-dd42-4485-ada3-149ef98ab800"
      },
      "source": [
        "# Bloque de imports\n",
        "import numpy as np\n",
        "import matplotlib.pyplot as plt\n",
        "%matplotlib inline  \n",
        "\n",
        "from PIL import Image,ImageOps #Libreria de imagenes\n",
        "import os\n",
        "import pickle\n",
        "\n",
        "from sklearn.model_selection import train_test_split\n",
        "from sklearn.preprocessing import OneHotEncoder\n",
        "from sklearn.utils import shuffle #porque sino vamos a meter en orden las cosas***\n",
        "import tensorflow as tf\n",
        "\n",
        "\n",
        "#Para tensorboard:\n",
        "%load_ext tensorboard\n",
        "import datetime"
      ],
      "execution_count": null,
      "outputs": [
        {
          "output_type": "stream",
          "text": [
            "The tensorboard extension is already loaded. To reload it, use:\n",
            "  %reload_ext tensorboard\n"
          ],
          "name": "stdout"
        }
      ]
    },
    {
      "cell_type": "code",
      "metadata": {
        "id": "0091-gKuQwCq"
      },
      "source": [
        "#emplear histogramEquilization para ajstar problemas de iluminación*\n",
        "\n",
        "#"
      ],
      "execution_count": null,
      "outputs": []
    },
    {
      "cell_type": "code",
      "metadata": {
        "colab": {
          "base_uri": "https://localhost:8080/"
        },
        "id": "1ctbbTqDQ2Oo",
        "outputId": "4bfb8a12-5490-4136-aba6-1aab88a5aa47"
      },
      "source": [
        "#Obtención de información desde Git\n",
        "! git clone https://github.com/enoc494/ProyectoCircuitos-ANN.git"
      ],
      "execution_count": null,
      "outputs": [
        {
          "output_type": "stream",
          "text": [
            "fatal: destination path 'ProyectoCircuitos-ANN' already exists and is not an empty directory.\n"
          ],
          "name": "stdout"
        }
      ]
    },
    {
      "cell_type": "code",
      "metadata": {
        "colab": {
          "base_uri": "https://localhost:8080/"
        },
        "id": "7_R9cuvNT6VW",
        "outputId": "51dd94c0-669c-4c02-daaf-bcb1632c5811"
      },
      "source": [
        "! ls\n"
      ],
      "execution_count": null,
      "outputs": [
        {
          "output_type": "stream",
          "text": [
            "Borrador_Proyecto_Circuitos_RNAA.ipynb\tProyectoCircuitos-ANN  README.md\n"
          ],
          "name": "stdout"
        }
      ]
    },
    {
      "cell_type": "code",
      "metadata": {
        "id": "nMGJci-VRK-p"
      },
      "source": [
        "#paths declarados de utilidad \n"
      ],
      "execution_count": null,
      "outputs": []
    },
    {
      "cell_type": "code",
      "metadata": {
        "id": "aBM2jDW8RlNL"
      },
      "source": [
        "#Montado para guardado de datos"
      ],
      "execution_count": null,
      "outputs": []
    },
    {
      "cell_type": "markdown",
      "metadata": {
        "id": "U92ZT8BERsIQ"
      },
      "source": [
        "#### Función de Carga, Preprocesado y Guardado de Datos\n"
      ]
    },
    {
      "cell_type": "code",
      "metadata": {
        "id": "M0Sn1F2ARusA"
      },
      "source": [
        "#función para preprocesar datos:\n",
        "def PreprocesarDatos(dirOrigen,dirDestino,numeroInicio,numeroFin,resize,personajes):\n",
        "  for personaje in personajes[numeroInicio:numeroFin]:  \n",
        "    os.chdir(dirDestino) \n",
        "\n",
        "    #Creamos carpeta con el nombre del personaje\n",
        "    try:\n",
        "      os.chdir( os.getcwd() +'/'+personaje)  \n",
        "    except FileNotFoundError:\n",
        "      os.mkdir( os.getcwd()+ '/'+personaje  )  \n",
        "\n",
        "    #Nos movemos a la ubicación de imagenes del personaje\n",
        "    print('personaje actual: ',personaje)\n",
        "    os.chdir(dirOrigen+'/'+personaje)\n",
        "    imagenes = os.listdir()\n",
        "    \n",
        "    #Acumuladores de datos procesados\n",
        "    x_v=[]\n",
        "    y_v=[]\n",
        "    i=0\n",
        "    for imagenName in imagenes:\n",
        "      i=i+1\n",
        "      if i%50 ==0:\n",
        "        print(i)\n",
        "      imagen  = Image.open(imagenName)\n",
        "      imagen  = imagen.resize((resize,resize))  #Escalar\n",
        "\n",
        "      imagen = np.array(imagen)\n",
        "      imagen = imagen/255 #Normalizado\n",
        "\n",
        "      #Retirado de imagenes que no tengan 3 capas:\n",
        "      if(len(imagen.shape)==3):\n",
        "        if(imagen.shape[2]==3): \n",
        "          x_v.append(imagen)\n",
        "      \n",
        "    y_v.append(personaje)\n",
        "    y_v=y_v*len(x_v) #Número de veces que se debe repetir el target\n",
        "    x_v=np.array(x_v)\n",
        "    y_v=np.array(y_v)\n",
        "    #Nos movemos para guardar todo el conjunto de imagenes y target del personaje\n",
        "   \n",
        "    #Esto se puede hacer con un with\n",
        "    os.chdir(dirDestino+'/'+personaje+'/') \n",
        "    pickle.dump(x_v, open(personaje+\"Data\", 'wb'))\n",
        "    pickle.dump(y_v, open(personaje+\"Target\", 'wb'))\n",
        "    #Regresamos al directorio donde se encuentran el resto, mejorar con with\n",
        "    os.chdir(dirOrigen+'/'+personaje+'/')     \n",
        "\n"
      ],
      "execution_count": null,
      "outputs": []
    },
    {
      "cell_type": "code",
      "metadata": {
        "id": "yHHmHcBvR5SB"
      },
      "source": [
        "#Implementación de la función anterior"
      ],
      "execution_count": null,
      "outputs": []
    },
    {
      "cell_type": "markdown",
      "metadata": {
        "id": "zkIF_CmvRxr_"
      },
      "source": [
        "#### Función de Carga de datos Preprocesados"
      ]
    },
    {
      "cell_type": "code",
      "metadata": {
        "id": "UU0tZuyIR_eu"
      },
      "source": [
        "def CargadorDatos(dirOrigen, n,personajes):\n",
        "  #Se elige directorio origen y número de personajes\n",
        "  x_v =[]\n",
        "  y_v =[]\n",
        "  i = 0 #indice de personaje\n",
        "  t = 0 #total de personajes agregados\n",
        "  while t < n:\n",
        "  \n",
        "    personaje = personajes[i]\n",
        "    os.chdir(dirOrigen+'/'+personaje)\n",
        "\n",
        "    #cargar todo  con 64x64 \n",
        "\n",
        "    #LOAD \n",
        "    data = pickle.load(open(personaje+'Data','rb')) \n",
        "    \n",
        "    #If a implementar para regular que personajes pueden ser cargados\n",
        "    # 0 -> todos serán considerados\n",
        "    # \n",
        "    if(len(data)>0):    \n",
        "      t=t+1\n",
        "      x_v.extend( data )\n",
        "      y_v.extend( pickle.load( open(personaje+'Target','rb'))  )\n",
        "    i=i+1 \n",
        "  return np.array(x_v) , np.array(y_v)"
      ],
      "execution_count": null,
      "outputs": []
    },
    {
      "cell_type": "code",
      "metadata": {
        "id": "kwS2rZ4XSBxQ"
      },
      "source": [
        "#implementación de la función anterior\n"
      ],
      "execution_count": null,
      "outputs": []
    },
    {
      "cell_type": "code",
      "metadata": {
        "id": "ajQqHxnQSFK4"
      },
      "source": [
        "#Forma de los datos"
      ],
      "execution_count": null,
      "outputs": []
    }
  ]
}