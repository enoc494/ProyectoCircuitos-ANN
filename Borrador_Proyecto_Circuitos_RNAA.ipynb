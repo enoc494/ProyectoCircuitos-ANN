{
  "nbformat": 4,
  "nbformat_minor": 0,
  "metadata": {
    "colab": {
      "name": "Borrador Proyecto Circuitos -RNAA",
      "provenance": [],
      "collapsed_sections": [],
      "authorship_tag": "ABX9TyP0IckH9+gst0C4RfpP7ufP",
      "include_colab_link": true
    },
    "kernelspec": {
      "name": "python3",
      "display_name": "Python 3"
    },
    "language_info": {
      "name": "python"
    }
  },
  "cells": [
    {
      "cell_type": "markdown",
      "metadata": {
        "id": "view-in-github",
        "colab_type": "text"
      },
      "source": [
        "<a href=\"https://colab.research.google.com/github/enoc494/ProyectoCircuitos-ANN/blob/master/Borrador_Proyecto_Circuitos_RNAA.ipynb\" target=\"_parent\"><img src=\"https://colab.research.google.com/assets/colab-badge.svg\" alt=\"Open In Colab\"/></a>"
      ]
    },
    {
      "cell_type": "code",
      "metadata": {
        "id": "b9fezt7z84ks"
      },
      "source": [
        ""
      ],
      "execution_count": null,
      "outputs": []
    },
    {
      "cell_type": "markdown",
      "metadata": {
        "id": "PHQXcULP84-6"
      },
      "source": [
        "Proyecto, borrador\n"
      ]
    },
    {
      "cell_type": "markdown",
      "metadata": {
        "id": "Ep_6_rg_86nW"
      },
      "source": [
        "# Parte I: Preprocesado y carga"
      ]
    },
    {
      "cell_type": "code",
      "metadata": {
        "id": "1LvBhhffBzN8",
        "colab": {
          "base_uri": "https://localhost:8080/"
        },
        "outputId": "4c1aef46-bc52-48ee-98f8-2117fad0b256"
      },
      "source": [
        "# Bloque de imports\n",
        "import numpy as np\n",
        "import matplotlib.pyplot as plt\n",
        "%matplotlib inline  \n",
        "\n",
        "from PIL import Image,ImageOps, ImageDraw #Libreria de imagenes\n",
        "import os\n",
        "from shutil import rmtree #Para limpieza de datos\n",
        "import pickle\n",
        "\n",
        "from sklearn.model_selection import train_test_split\n",
        "from sklearn.preprocessing import OneHotEncoder\n",
        "from sklearn.utils import shuffle #porque sino vamos a meter en orden las cosas***\n",
        "import tensorflow as tf\n",
        "\n",
        "#Para descargar los archivos:\n",
        "from google.colab import files\n",
        "\n",
        "\n",
        "#Para tensorboard:\n",
        "%load_ext tensorboard\n",
        "import datetime"
      ],
      "execution_count": null,
      "outputs": [
        {
          "output_type": "stream",
          "text": [
            "The tensorboard extension is already loaded. To reload it, use:\n",
            "  %reload_ext tensorboard\n"
          ],
          "name": "stdout"
        }
      ]
    },
    {
      "cell_type": "code",
      "metadata": {
        "id": "14L0CiXGzpGd"
      },
      "source": [
        ""
      ],
      "execution_count": null,
      "outputs": []
    },
    {
      "cell_type": "code",
      "metadata": {
        "colab": {
          "base_uri": "https://localhost:8080/"
        },
        "id": "1ctbbTqDQ2Oo",
        "outputId": "bfa26a47-aca6-46f7-9482-eff81a69210b"
      },
      "source": [
        "#Obtención de información desde Git\n",
        "! git clone https://github.com/enoc494/ProyectoCircuitos-ANN.git"
      ],
      "execution_count": null,
      "outputs": [
        {
          "output_type": "stream",
          "text": [
            "Cloning into 'ProyectoCircuitos-ANN'...\n",
            "remote: Enumerating objects: 1816, done.\u001b[K\n",
            "remote: Counting objects: 100% (1816/1816), done.\u001b[K\n",
            "remote: Compressing objects: 100% (1589/1589), done.\u001b[K\n",
            "remote: Total 1816 (delta 252), reused 1770 (delta 224), pack-reused 0\u001b[K\n",
            "Receiving objects: 100% (1816/1816), 157.19 MiB | 26.24 MiB/s, done.\n",
            "Resolving deltas: 100% (252/252), done.\n"
          ],
          "name": "stdout"
        }
      ]
    },
    {
      "cell_type": "code",
      "metadata": {
        "colab": {
          "base_uri": "https://localhost:8080/"
        },
        "id": "7_R9cuvNT6VW",
        "outputId": "62010858-d3c1-40c0-c695-84c9ba04e0fa"
      },
      "source": [
        "%ls"
      ],
      "execution_count": null,
      "outputs": [
        {
          "output_type": "stream",
          "text": [
            "\u001b[0m\u001b[01;34mProyectoCircuitos-ANN\u001b[0m/  \u001b[01;34msample_data\u001b[0m/\n"
          ],
          "name": "stdout"
        }
      ]
    },
    {
      "cell_type": "code",
      "metadata": {
        "colab": {
          "base_uri": "https://localhost:8080/"
        },
        "id": "Du6aclMFivh1",
        "outputId": "d591930d-e13f-4c0b-95e7-81f10758c3e9"
      },
      "source": [
        "%cd ProyectoCircuitos-ANN/"
      ],
      "execution_count": null,
      "outputs": [
        {
          "output_type": "stream",
          "text": [
            "/content/ProyectoCircuitos-ANN\n"
          ],
          "name": "stdout"
        }
      ]
    },
    {
      "cell_type": "code",
      "metadata": {
        "colab": {
          "base_uri": "https://localhost:8080/"
        },
        "id": "oZgFA9qGiym9",
        "outputId": "7c20eeed-90ae-49c3-c149-8363eaad8830"
      },
      "source": [
        "%ls"
      ],
      "execution_count": null,
      "outputs": [
        {
          "output_type": "stream",
          "text": [
            "Borrador_Proyecto_Circuitos_RNAA.ipynb  \u001b[0m\u001b[01;34mData0\u001b[0m/    Log.txt\n",
            "\u001b[01;34mData\u001b[0m/                                   Data.rar  README.md\n"
          ],
          "name": "stdout"
        }
      ]
    },
    {
      "cell_type": "code",
      "metadata": {
        "id": "iSPuhDlR0jB3"
      },
      "source": [
        "!cd /content/ProyectoCircuitos-ANN"
      ],
      "execution_count": null,
      "outputs": []
    },
    {
      "cell_type": "code",
      "metadata": {
        "colab": {
          "base_uri": "https://localhost:8080/",
          "height": 35
        },
        "id": "Un5cEVjNjBW8",
        "outputId": "98a38313-8489-4df2-be97-762f4eaa31b3"
      },
      "source": [
        "os.getcwd()"
      ],
      "execution_count": null,
      "outputs": [
        {
          "output_type": "execute_result",
          "data": {
            "application/vnd.google.colaboratory.intrinsic+json": {
              "type": "string"
            },
            "text/plain": [
              "'/content/ProyectoCircuitos-ANN'"
            ]
          },
          "metadata": {
            "tags": []
          },
          "execution_count": 7
        }
      ]
    },
    {
      "cell_type": "code",
      "metadata": {
        "id": "nMGJci-VRK-p"
      },
      "source": [
        "#paths declarados de utilidad \n",
        "dir = \"/content/ProyectoCircuitos-ANN/\"\n",
        "dirData = dir+'/Data'\n",
        "\n"
      ],
      "execution_count": null,
      "outputs": []
    },
    {
      "cell_type": "code",
      "metadata": {
        "id": "4dnclUYfuZOa",
        "colab": {
          "base_uri": "https://localhost:8080/",
          "height": 35
        },
        "outputId": "d1410109-fd43-4694-8b68-7b70728328bd"
      },
      "source": [
        "dir"
      ],
      "execution_count": 47,
      "outputs": [
        {
          "output_type": "execute_result",
          "data": {
            "application/vnd.google.colaboratory.intrinsic+json": {
              "type": "string"
            },
            "text/plain": [
              "'/content/ProyectoCircuitos-ANN/'"
            ]
          },
          "metadata": {
            "tags": []
          },
          "execution_count": 47
        }
      ]
    },
    {
      "cell_type": "code",
      "metadata": {
        "colab": {
          "base_uri": "https://localhost:8080/"
        },
        "id": "cteaqHCejGyz",
        "outputId": "ee6e7c15-4caf-446d-9ca8-da3877059eb7"
      },
      "source": [
        "os.listdir()"
      ],
      "execution_count": 48,
      "outputs": [
        {
          "output_type": "execute_result",
          "data": {
            "text/plain": [
              "['ConectoresData', 'ConectoresTarget', 'file.zip']"
            ]
          },
          "metadata": {
            "tags": []
          },
          "execution_count": 48
        }
      ]
    },
    {
      "cell_type": "code",
      "metadata": {
        "id": "RZFWU6ymj2HT"
      },
      "source": [
        "#listado de Tipos de entradas\n",
        "os.chdir(dirData)\n",
        "listaDeEntradas = os.listdir()"
      ],
      "execution_count": 49,
      "outputs": []
    },
    {
      "cell_type": "code",
      "metadata": {
        "colab": {
          "base_uri": "https://localhost:8080/"
        },
        "id": "CBI1YkoHlv79",
        "outputId": "8ca6443f-faa7-4ae5-8bd0-d33cc4b1f798"
      },
      "source": [
        "listaDeEntradas"
      ],
      "execution_count": 50,
      "outputs": [
        {
          "output_type": "execute_result",
          "data": {
            "text/plain": [
              "['Esquematicos', 'Componentes']"
            ]
          },
          "metadata": {
            "tags": []
          },
          "execution_count": 50
        }
      ]
    },
    {
      "cell_type": "code",
      "metadata": {
        "id": "HZ9fzPKaj8sd"
      },
      "source": [
        "# Ejemplo de un preprocesado:\n",
        "os.chdir(dirData+'/'+listaDeEntradas[1])\n",
        "listaDeDispositivosComponentes = os.listdir()\n",
        "\n",
        "os.chdir(dirData+'/'+listaDeEntradas[0])\n",
        "listaDeDispositivosEsquematicos = os.listdir()\n",
        "\n",
        "os.chdir(dirData+'/'+listaDeEntradas[0]+'/'+listaDeDispositivosEsquematicos[0])\n",
        "imagenes = os.listdir()"
      ],
      "execution_count": 51,
      "outputs": []
    },
    {
      "cell_type": "code",
      "metadata": {
        "colab": {
          "base_uri": "https://localhost:8080/"
        },
        "id": "mWJZ1TuDlyuB",
        "outputId": "cdc6b730-bcca-4ae0-f0a4-7622ac8eb408"
      },
      "source": [
        "listaDeDispositivosEsquematicos"
      ],
      "execution_count": 52,
      "outputs": [
        {
          "output_type": "execute_result",
          "data": {
            "text/plain": [
              "['Capacitores-Electroliticos',\n",
              " 'LED',\n",
              " 'Fusibles',\n",
              " 'Resistencias',\n",
              " 'Bobinas',\n",
              " 'Potenciometros',\n",
              " 'Diodos',\n",
              " 'LCD',\n",
              " 'Ventiladores',\n",
              " 'Motores',\n",
              " 'Capacitores-Ceramicos',\n",
              " 'Bocinas',\n",
              " 'Circuitos Integrados',\n",
              " 'Transistores',\n",
              " 'PushButtons',\n",
              " 'DipSwitches',\n",
              " 'Baterias',\n",
              " 'Conectores']"
            ]
          },
          "metadata": {
            "tags": []
          },
          "execution_count": 52
        }
      ]
    },
    {
      "cell_type": "code",
      "metadata": {
        "colab": {
          "base_uri": "https://localhost:8080/"
        },
        "id": "AzHTOnX2NSFp",
        "outputId": "2baabf8c-0b8e-4099-af7b-b6e3e4c23e03"
      },
      "source": [
        "listaDeDispositivosComponentes\n"
      ],
      "execution_count": 53,
      "outputs": [
        {
          "output_type": "execute_result",
          "data": {
            "text/plain": [
              "['Capacitores-Electroliticos',\n",
              " 'LED',\n",
              " 'Fusibles',\n",
              " 'Resistencias',\n",
              " 'Bobinas',\n",
              " 'Potenciometros',\n",
              " 'Diodos',\n",
              " 'LCD',\n",
              " 'Ventiladores',\n",
              " 'Motores',\n",
              " 'Capacitores-Ceramicos',\n",
              " 'Bocinas',\n",
              " 'Circuitos Integrados',\n",
              " 'Transistores',\n",
              " 'PushButtons',\n",
              " 'DipSwitches',\n",
              " 'Baterias',\n",
              " 'Conectores']"
            ]
          },
          "metadata": {
            "tags": []
          },
          "execution_count": 53
        }
      ]
    },
    {
      "cell_type": "code",
      "metadata": {
        "colab": {
          "base_uri": "https://localhost:8080/",
          "height": 269
        },
        "id": "O48TurEWkoyL",
        "outputId": "96ef3139-8f52-441e-f428-390105669947"
      },
      "source": [
        "imagen = Image.open(imagenes[0])\n",
        "imagen"
      ],
      "execution_count": 86,
      "outputs": [
        {
          "output_type": "execute_result",
          "data": {
            "image/png": "[encoded data removed]",
            "text/plain": [
              "<PIL.PngImagePlugin.PngImageFile image mode=RGBA size=162x252 at 0x7F0805540FD0>"
            ]
          },
          "metadata": {
            "tags": []
          },
          "execution_count": 86
        }
      ]
    },
    {
      "cell_type": "code",
      "metadata": {
        "id": "tXF9_IHt0uFW"
      },
      "source": [
        "a,b=imagen.size\n",
        "\n",
        "if a!=b: #Si no coincide el ancho/largo\n",
        "  if a>b:\n",
        "    im = Image.new('RGB', (a, a), (255, 255, 255))\n",
        "    im.paste(imagen, (0,0))\n",
        "  else:\n",
        "    im = Image.new('RGB', (b, b), (255, 255, 255))\n",
        "    im.paste(imagen, (0,0))\n",
        "imagen = im"
      ],
      "execution_count": 87,
      "outputs": []
    },
    {
      "cell_type": "code",
      "metadata": {
        "colab": {
          "base_uri": "https://localhost:8080/",
          "height": 269
        },
        "id": "oJhd2wo34EdX",
        "outputId": "95518392-d97b-4ed7-df21-29d77fcec0a5"
      },
      "source": [
        "imagen"
      ],
      "execution_count": 88,
      "outputs": [
        {
          "output_type": "execute_result",
          "data": {
            "image/png": "[encoded data removed]",
            "text/plain": [
              "<PIL.Image.Image image mode=RGB size=252x252 at 0x7F0805454150>"
            ]
          },
          "metadata": {
            "tags": []
          },
          "execution_count": 88
        }
      ]
    },
    {
      "cell_type": "code",
      "metadata": {
        "colab": {
          "base_uri": "https://localhost:8080/"
        },
        "id": "ClSfntB6V1f1",
        "outputId": "1ae7afb1-4d47-4eb8-d7af-664efbf11044"
      },
      "source": [
        "imagen.size"
      ],
      "execution_count": 89,
      "outputs": [
        {
          "output_type": "execute_result",
          "data": {
            "text/plain": [
              "(252, 252)"
            ]
          },
          "metadata": {
            "tags": []
          },
          "execution_count": 89
        }
      ]
    },
    {
      "cell_type": "code",
      "metadata": {
        "colab": {
          "base_uri": "https://localhost:8080/",
          "height": 167
        },
        "id": "1TU4UAcLkx9P",
        "outputId": "b20e5207-3d13-45c1-fcec-7a3111f95431"
      },
      "source": [
        "imagen  = imagen.resize((64,64))  #Escalar, 64 x 64 en ejemplo\n",
        "\n",
        "#Antes del resize realizar un fill de blanco :D\n",
        "\n",
        " #Ilustración de las 3 capas a usar\n",
        "imagen2 = np.array(imagen)\n",
        "imagen2.shape\n",
        "imagen2=imagen2.transpose( 2,0,1 )\n",
        "\n",
        "fig1 = plt.figure(figsize=(6,10))\n",
        "ax   = fig1.add_subplot(1,3,1)\n",
        "ax.imshow(imagen2[0],cmap='gray')\n",
        "ax   = fig1.add_subplot(1,3,2)\n",
        "ax.imshow(imagen2[1],cmap='gray')\n",
        "ax   = fig1.add_subplot(1,3,3)\n",
        "ax.imshow(imagen2[2],cmap='gray')"
      ],
      "execution_count": 90,
      "outputs": [
        {
          "output_type": "execute_result",
          "data": {
            "text/plain": [
              "<matplotlib.image.AxesImage at 0x7f080540e390>"
            ]
          },
          "metadata": {
            "tags": []
          },
          "execution_count": 90
        },
        {
          "output_type": "display_data",
          "data": {
            "image/png": "[encoded data removed]",
            "text/plain": [
              "<Figure size 432x720 with 3 Axes>"
            ]
          },
          "metadata": {
            "tags": [],
            "needs_background": "light"
          }
        }
      ]
    },
    {
      "cell_type": "code",
      "metadata": {
        "id": "BezV9-hm4B2t"
      },
      "source": [
        ""
      ],
      "execution_count": null,
      "outputs": []
    },
    {
      "cell_type": "code",
      "metadata": {
        "colab": {
          "base_uri": "https://localhost:8080/"
        },
        "id": "6wozZHP2SVu2",
        "outputId": "8b9337bd-a1fc-4a5d-e46e-77a010ce2b80"
      },
      "source": [
        "#Limpieza del directorio por si hubo algo antes de preprocesar:\n",
        "try:\n",
        "  rmtree( dir +'DataPrep')\n",
        "except FileNotFoundError:\n",
        "  print('nada que borrar')"
      ],
      "execution_count": null,
      "outputs": [
        {
          "output_type": "stream",
          "text": [
            "nada que borrar\n"
          ],
          "name": "stdout"
        }
      ]
    },
    {
      "cell_type": "markdown",
      "metadata": {
        "id": "U92ZT8BERsIQ"
      },
      "source": [
        "#### Función de Carga, Preprocesado y Guardado de Datos\n"
      ]
    },
    {
      "cell_type": "code",
      "metadata": {
        "id": "M0Sn1F2ARusA"
      },
      "source": [
        "#función para preprocesar datos:\n",
        "def PreprocesarDatos(resize,tipo,dispositivos):\n",
        "  \"\"\"\n",
        "  el tamaño deseado,\n",
        "  tipo ingresado\n",
        "  la lista de dispositivos a revisar (la lista de las clases es diferente!!!)\n",
        "  \"\"\"\n",
        "\n",
        "  #Este proceso se debe repetir para cada tipo\n",
        "\n",
        "  os.chdir(dir) # Carpeta superior \n",
        "  #Preparamos sitios de almacenamiento\n",
        "\n",
        "  try:\n",
        "    os.chdir( dir+'DataPrep/')  \n",
        "  except FileNotFoundError:\n",
        "    os.mkdir( dir+'DataPrep/')\n",
        "    os.chdir( dir+'DataPrep/')\n",
        "  \n",
        "  try:\n",
        "    os.chdir( dir+'DataPrep/'+tipo)  \n",
        "  except FileNotFoundError:\n",
        "    os.mkdir( dir+'DataPrep/'+tipo)\n",
        "    os.chdir( dir+'DataPrep/'+tipo)\n",
        "  \n",
        "  for dispositivo in dispositivos:\n",
        "    #Por cada tipo realizaremos el número de carpeta correspondiente\n",
        "    try:\n",
        "      os.chdir( dir+'DataPrep/'+tipo+'/'+dispositivo)  \n",
        "    except FileNotFoundError:\n",
        "      os.mkdir( dir+'DataPrep/'+tipo+'/'+dispositivo)\n",
        "      os.chdir( dir+'DataPrep/'+tipo+'/'+dispositivo)\n",
        "    #Con la carpeta destino creada nos movemos a la ubicación de las imagenes\n",
        "\n",
        "    os.chdir(dir+'Data/'+tipo+'/'+dispositivo) #Se supone existe\n",
        "    print('Actualmente en: ',tipo+', '+dispositivo)\n",
        "    \n",
        "    imagenes = os.listdir()\n",
        "  \n",
        "    #Acumuladores de datos procesados\n",
        "    x_v=[]\n",
        "    y_v=[]\n",
        "    for imagenName in imagenes:\n",
        "  \n",
        "      imagen  = Image.open(imagenName)\n",
        "      imagen = imagen.convert('RGB') #Todo a RGB\n",
        "      \n",
        "      a,b=imagen.size\n",
        "      if a!=b: #Si no coincide el ancho/largo\n",
        "        if a>b:\n",
        "          #nuevo fondo\n",
        "          im = Image.new('RGB', (a, a), (255, 255, 255)) \n",
        "          im.paste(imagen, (0,0))\n",
        "        else:\n",
        "          #nuevo fondo\n",
        "          im = Image.new('RGB', (b, b), (255, 255, 255))\n",
        "          im.paste(imagen, (0,0))\n",
        "      \n",
        "      imagen = im.resize((resize,resize))  #Escalar\n",
        "      imagen = np.array(imagen)\n",
        "      imagen = imagen/255 #Normalizado\n",
        "    \n",
        "      #Revisar que todas las imagenes cumplan*\n",
        "      x_v.append(imagen)\n",
        "\n",
        "    y_v.append(dispositivo)\n",
        "    y_v=y_v*len(x_v) #Número de veces que se debe repetir el target\n",
        "    x_v=np.array(x_v)\n",
        "    y_v=np.array(y_v)\n",
        "  \n",
        "    #Esto se puede hacer con un with\n",
        "    os.chdir(dir +'DataPrep/'+tipo+'/'+dispositivo) \n",
        "    pickle.dump(x_v, open(dispositivo+\"Data\", 'wb'))\n",
        "    pickle.dump(y_v, open(dispositivo+\"Target\", 'wb'))\n",
        "    #Regresamos al directorio donde se encuentran el resto, mejorar con with\n",
        "\n",
        "\n"
      ],
      "execution_count": 93,
      "outputs": []
    },
    {
      "cell_type": "code",
      "metadata": {
        "id": "yHHmHcBvR5SB",
        "colab": {
          "base_uri": "https://localhost:8080/"
        },
        "outputId": "0fdf8524-081f-4816-9af7-22a589ab2db4"
      },
      "source": [
        "#Implementación de la función anterior\n",
        "PreprocesarDatos(32,listaDeEntradas[0],listaDeDispositivosEsquematicos) #Preprocesa Esquematicos\n",
        "PreprocesarDatos(32,listaDeEntradas[1],listaDeDispositivosComponentes)  #Preprocesa Componentes\n"
      ],
      "execution_count": 94,
      "outputs": [
        {
          "output_type": "stream",
          "text": [
            "Actualmente en:  Esquematicos, Capacitores-Electroliticos\n",
            "Actualmente en:  Esquematicos, LED\n",
            "Actualmente en:  Esquematicos, Fusibles\n",
            "Actualmente en:  Esquematicos, Resistencias\n",
            "Actualmente en:  Esquematicos, Bobinas\n",
            "Actualmente en:  Esquematicos, Potenciometros\n",
            "Actualmente en:  Esquematicos, Diodos\n",
            "Actualmente en:  Esquematicos, LCD\n",
            "Actualmente en:  Esquematicos, Ventiladores\n",
            "Actualmente en:  Esquematicos, Motores\n",
            "Actualmente en:  Esquematicos, Capacitores-Ceramicos\n",
            "Actualmente en:  Esquematicos, Bocinas\n",
            "Actualmente en:  Esquematicos, Circuitos Integrados\n",
            "Actualmente en:  Esquematicos, Transistores\n",
            "Actualmente en:  Esquematicos, PushButtons\n",
            "Actualmente en:  Esquematicos, DipSwitches\n",
            "Actualmente en:  Esquematicos, Baterias\n",
            "Actualmente en:  Esquematicos, Conectores\n",
            "Actualmente en:  Componentes, Capacitores-Electroliticos\n"
          ],
          "name": "stdout"
        },
        {
          "output_type": "stream",
          "text": [
            "/usr/local/lib/python3.7/dist-packages/PIL/Image.py:960: UserWarning: Palette images with Transparency expressed in bytes should be converted to RGBA images\n",
            "  \"Palette images with Transparency expressed in bytes should be \"\n"
          ],
          "name": "stderr"
        },
        {
          "output_type": "stream",
          "text": [
            "Actualmente en:  Componentes, LED\n",
            "Actualmente en:  Componentes, Fusibles\n"
          ],
          "name": "stdout"
        },
        {
          "output_type": "stream",
          "text": [
            "/usr/local/lib/python3.7/dist-packages/PIL/TiffImagePlugin.py:788: UserWarning: Corrupt EXIF data.  Expecting to read 4 bytes but only got 0. \n",
            "  warnings.warn(str(msg))\n"
          ],
          "name": "stderr"
        },
        {
          "output_type": "stream",
          "text": [
            "Actualmente en:  Componentes, Resistencias\n",
            "Actualmente en:  Componentes, Bobinas\n",
            "Actualmente en:  Componentes, Potenciometros\n",
            "Actualmente en:  Componentes, Diodos\n",
            "Actualmente en:  Componentes, LCD\n",
            "Actualmente en:  Componentes, Ventiladores\n",
            "Actualmente en:  Componentes, Motores\n",
            "Actualmente en:  Componentes, Capacitores-Ceramicos\n",
            "Actualmente en:  Componentes, Bocinas\n",
            "Actualmente en:  Componentes, Circuitos Integrados\n",
            "Actualmente en:  Componentes, Transistores\n",
            "Actualmente en:  Componentes, PushButtons\n",
            "Actualmente en:  Componentes, DipSwitches\n",
            "Actualmente en:  Componentes, Baterias\n",
            "Actualmente en:  Componentes, Conectores\n"
          ],
          "name": "stdout"
        }
      ]
    },
    {
      "cell_type": "code",
      "metadata": {
        "id": "HMLKbM2BwTcN",
        "colab": {
          "base_uri": "https://localhost:8080/",
          "height": 35
        },
        "outputId": "045df0cb-6e83-4505-d18e-8fabe8568a38"
      },
      "source": [
        "dir+'/DataPrep'"
      ],
      "execution_count": 95,
      "outputs": [
        {
          "output_type": "execute_result",
          "data": {
            "application/vnd.google.colaboratory.intrinsic+json": {
              "type": "string"
            },
            "text/plain": [
              "'/content/ProyectoCircuitos-ANN//DataPrep'"
            ]
          },
          "metadata": {
            "tags": []
          },
          "execution_count": 95
        }
      ]
    },
    {
      "cell_type": "code",
      "metadata": {
        "id": "6xxB3Vp_2n7y"
      },
      "source": [
        "path=os.getcwd()"
      ],
      "execution_count": 96,
      "outputs": []
    },
    {
      "cell_type": "code",
      "metadata": {
        "id": "NGd4NfH-wm7c",
        "colab": {
          "base_uri": "https://localhost:8080/"
        },
        "outputId": "f6957f56-6e4d-471d-efd1-d10667e4fe15"
      },
      "source": [
        "!zip -r file.zip /content/ProyectoCircuitos-ANN/DataPrep "
      ],
      "execution_count": 97,
      "outputs": [
        {
          "output_type": "stream",
          "text": [
            "updating: content/ProyectoCircuitos-ANN/DataPrep/ (stored 0%)\n",
            "updating: content/ProyectoCircuitos-ANN/DataPrep/Esquematicos/ (stored 0%)\n",
            "updating: content/ProyectoCircuitos-ANN/DataPrep/Esquematicos/Capacitores-Electroliticos/ (stored 0%)\n",
            "updating: content/ProyectoCircuitos-ANN/DataPrep/Esquematicos/Capacitores-Electroliticos/Capacitores-ElectroliticosData (deflated 95%)\n",
            "updating: content/ProyectoCircuitos-ANN/DataPrep/Esquematicos/Capacitores-Electroliticos/Capacitores-ElectroliticosTarget (deflated 89%)\n",
            "updating: content/ProyectoCircuitos-ANN/DataPrep/Esquematicos/LED/ (stored 0%)\n",
            "updating: content/ProyectoCircuitos-ANN/DataPrep/Esquematicos/LED/LEDTarget (deflated 67%)\n",
            "updating: content/ProyectoCircuitos-ANN/DataPrep/Esquematicos/LED/LEDData (deflated 94%)\n",
            "updating: content/ProyectoCircuitos-ANN/DataPrep/Esquematicos/Fusibles/ (stored 0%)\n",
            "updating: content/ProyectoCircuitos-ANN/DataPrep/Esquematicos/Fusibles/FusiblesTarget (deflated 80%)\n",
            "updating: content/ProyectoCircuitos-ANN/DataPrep/Esquematicos/Fusibles/FusiblesData (deflated 93%)\n",
            "updating: content/ProyectoCircuitos-ANN/DataPrep/Esquematicos/Resistencias/ (stored 0%)\n",
            "updating: content/ProyectoCircuitos-ANN/DataPrep/Esquematicos/Resistencias/ResistenciasData (deflated 97%)\n",
            "updating: content/ProyectoCircuitos-ANN/DataPrep/Esquematicos/Resistencias/ResistenciasTarget (deflated 86%)\n",
            "updating: content/ProyectoCircuitos-ANN/DataPrep/Esquematicos/Bobinas/ (stored 0%)\n",
            "updating: content/ProyectoCircuitos-ANN/DataPrep/Esquematicos/Bobinas/BobinasData (deflated 98%)\n",
            "updating: content/ProyectoCircuitos-ANN/DataPrep/Esquematicos/Bobinas/BobinasTarget (deflated 81%)\n",
            "updating: content/ProyectoCircuitos-ANN/DataPrep/Esquematicos/Potenciometros/ (stored 0%)\n",
            "updating: content/ProyectoCircuitos-ANN/DataPrep/Esquematicos/Potenciometros/PotenciometrosTarget (deflated 84%)\n",
            "updating: content/ProyectoCircuitos-ANN/DataPrep/Esquematicos/Potenciometros/PotenciometrosData (deflated 100%)\n",
            "updating: content/ProyectoCircuitos-ANN/DataPrep/Esquematicos/Diodos/ (stored 0%)\n",
            "updating: content/ProyectoCircuitos-ANN/DataPrep/Esquematicos/Diodos/DiodosData (deflated 96%)\n",
            "updating: content/ProyectoCircuitos-ANN/DataPrep/Esquematicos/Diodos/DiodosTarget (deflated 82%)\n",
            "updating: content/ProyectoCircuitos-ANN/DataPrep/Esquematicos/LCD/ (stored 0%)\n",
            "updating: content/ProyectoCircuitos-ANN/DataPrep/Esquematicos/LCD/LCDData (deflated 95%)\n",
            "updating: content/ProyectoCircuitos-ANN/DataPrep/Esquematicos/LCD/LCDTarget (deflated 65%)\n",
            "updating: content/ProyectoCircuitos-ANN/DataPrep/Esquematicos/Ventiladores/ (stored 0%)\n",
            "updating: content/ProyectoCircuitos-ANN/DataPrep/Esquematicos/Ventiladores/VentiladoresTarget (deflated 76%)\n",
            "updating: content/ProyectoCircuitos-ANN/DataPrep/Esquematicos/Ventiladores/VentiladoresData (deflated 93%)\n",
            "updating: content/ProyectoCircuitos-ANN/DataPrep/Esquematicos/Motores/ (stored 0%)\n",
            "updating: content/ProyectoCircuitos-ANN/DataPrep/Esquematicos/Motores/MotoresTarget (deflated 81%)\n",
            "updating: content/ProyectoCircuitos-ANN/DataPrep/Esquematicos/Motores/MotoresData (deflated 94%)\n",
            "updating: content/ProyectoCircuitos-ANN/DataPrep/Esquematicos/Capacitores-Ceramicos/ (stored 0%)\n",
            "updating: content/ProyectoCircuitos-ANN/DataPrep/Esquematicos/Capacitores-Ceramicos/Capacitores-CeramicosData (deflated 97%)\n",
            "updating: content/ProyectoCircuitos-ANN/DataPrep/Esquematicos/Capacitores-Ceramicos/Capacitores-CeramicosTarget (deflated 92%)\n",
            "updating: content/ProyectoCircuitos-ANN/DataPrep/Esquematicos/Bocinas/ (stored 0%)\n",
            "updating: content/ProyectoCircuitos-ANN/DataPrep/Esquematicos/Bocinas/BocinasTarget (deflated 81%)\n",
            "updating: content/ProyectoCircuitos-ANN/DataPrep/Esquematicos/Bocinas/BocinasData (deflated 96%)\n",
            "updating: content/ProyectoCircuitos-ANN/DataPrep/Esquematicos/Circuitos Integrados/ (stored 0%)\n",
            "updating: content/ProyectoCircuitos-ANN/DataPrep/Esquematicos/Circuitos Integrados/Circuitos IntegradosData (deflated 94%)\n",
            "updating: content/ProyectoCircuitos-ANN/DataPrep/Esquematicos/Circuitos Integrados/Circuitos IntegradosTarget (deflated 91%)\n",
            "updating: content/ProyectoCircuitos-ANN/DataPrep/Esquematicos/Transistores/ (stored 0%)\n",
            "updating: content/ProyectoCircuitos-ANN/DataPrep/Esquematicos/Transistores/TransistoresTarget (deflated 87%)\n",
            "updating: content/ProyectoCircuitos-ANN/DataPrep/Esquematicos/Transistores/TransistoresData (deflated 95%)\n",
            "updating: content/ProyectoCircuitos-ANN/DataPrep/Esquematicos/PushButtons/ (stored 0%)\n",
            "updating: content/ProyectoCircuitos-ANN/DataPrep/Esquematicos/PushButtons/PushButtonsData (deflated 96%)\n",
            "updating: content/ProyectoCircuitos-ANN/DataPrep/Esquematicos/PushButtons/PushButtonsTarget (deflated 65%)\n",
            "updating: content/ProyectoCircuitos-ANN/DataPrep/Esquematicos/DipSwitches/ (stored 0%)\n",
            "updating: content/ProyectoCircuitos-ANN/DataPrep/Esquematicos/DipSwitches/DipSwitchesData (deflated 96%)\n",
            "updating: content/ProyectoCircuitos-ANN/DataPrep/Esquematicos/DipSwitches/DipSwitchesTarget (deflated 61%)\n",
            "updating: content/ProyectoCircuitos-ANN/DataPrep/Esquematicos/Baterias/ (stored 0%)\n",
            "updating: content/ProyectoCircuitos-ANN/DataPrep/Esquematicos/Baterias/BateriasData (deflated 97%)\n",
            "updating: content/ProyectoCircuitos-ANN/DataPrep/Esquematicos/Baterias/BateriasTarget (deflated 75%)\n",
            "updating: content/ProyectoCircuitos-ANN/DataPrep/Esquematicos/Conectores/ (stored 0%)\n",
            "updating: content/ProyectoCircuitos-ANN/DataPrep/Esquematicos/Conectores/ConectoresData (deflated 95%)\n",
            "updating: content/ProyectoCircuitos-ANN/DataPrep/Esquematicos/Conectores/ConectoresTarget (deflated 79%)\n",
            "updating: content/ProyectoCircuitos-ANN/DataPrep/Componentes/ (stored 0%)\n",
            "updating: content/ProyectoCircuitos-ANN/DataPrep/Componentes/Capacitores-Electroliticos/ (stored 0%)\n",
            "updating: content/ProyectoCircuitos-ANN/DataPrep/Componentes/Capacitores-Electroliticos/Capacitores-ElectroliticosData (deflated 90%)\n",
            "updating: content/ProyectoCircuitos-ANN/DataPrep/Componentes/Capacitores-Electroliticos/Capacitores-ElectroliticosTarget (deflated 97%)\n",
            "updating: content/ProyectoCircuitos-ANN/DataPrep/Componentes/LED/ (stored 0%)\n",
            "updating: content/ProyectoCircuitos-ANN/DataPrep/Componentes/LED/LEDTarget (deflated 85%)\n",
            "updating: content/ProyectoCircuitos-ANN/DataPrep/Componentes/LED/LEDData (deflated 89%)\n",
            "updating: content/ProyectoCircuitos-ANN/DataPrep/Componentes/Fusibles/ (stored 0%)\n",
            "updating: content/ProyectoCircuitos-ANN/DataPrep/Componentes/Fusibles/FusiblesTarget (deflated 89%)\n",
            "updating: content/ProyectoCircuitos-ANN/DataPrep/Componentes/Fusibles/FusiblesData (deflated 93%)\n",
            "updating: content/ProyectoCircuitos-ANN/DataPrep/Componentes/Resistencias/ (stored 0%)\n",
            "updating: content/ProyectoCircuitos-ANN/DataPrep/Componentes/Resistencias/ResistenciasData (deflated 90%)\n",
            "updating: content/ProyectoCircuitos-ANN/DataPrep/Componentes/Resistencias/ResistenciasTarget (deflated 95%)\n",
            "updating: content/ProyectoCircuitos-ANN/DataPrep/Componentes/Bobinas/ (stored 0%)\n",
            "updating: content/ProyectoCircuitos-ANN/DataPrep/Componentes/Bobinas/BobinasData (deflated 86%)\n",
            "updating: content/ProyectoCircuitos-ANN/DataPrep/Componentes/Bobinas/BobinasTarget (deflated 93%)\n",
            "updating: content/ProyectoCircuitos-ANN/DataPrep/Componentes/Potenciometros/ (stored 0%)\n",
            "updating: content/ProyectoCircuitos-ANN/DataPrep/Componentes/Potenciometros/PotenciometrosTarget (deflated 94%)\n",
            "updating: content/ProyectoCircuitos-ANN/DataPrep/Componentes/Potenciometros/PotenciometrosData (deflated 99%)\n",
            "updating: content/ProyectoCircuitos-ANN/DataPrep/Componentes/Diodos/ (stored 0%)\n",
            "updating: content/ProyectoCircuitos-ANN/DataPrep/Componentes/Diodos/DiodosData (deflated 90%)\n",
            "updating: content/ProyectoCircuitos-ANN/DataPrep/Componentes/Diodos/DiodosTarget (deflated 92%)\n",
            "updating: content/ProyectoCircuitos-ANN/DataPrep/Componentes/LCD/ (stored 0%)\n",
            "updating: content/ProyectoCircuitos-ANN/DataPrep/Componentes/LCD/LCDData (deflated 90%)\n",
            "updating: content/ProyectoCircuitos-ANN/DataPrep/Componentes/LCD/LCDTarget (deflated 86%)\n",
            "updating: content/ProyectoCircuitos-ANN/DataPrep/Componentes/Ventiladores/ (stored 0%)\n",
            "updating: content/ProyectoCircuitos-ANN/DataPrep/Componentes/Ventiladores/VentiladoresTarget (deflated 93%)\n",
            "updating: content/ProyectoCircuitos-ANN/DataPrep/Componentes/Ventiladores/VentiladoresData (deflated 89%)\n",
            "updating: content/ProyectoCircuitos-ANN/DataPrep/Componentes/Motores/ (stored 0%)\n",
            "updating: content/ProyectoCircuitos-ANN/DataPrep/Componentes/Motores/MotoresTarget (deflated 93%)\n",
            "updating: content/ProyectoCircuitos-ANN/DataPrep/Componentes/Motores/MotoresData (deflated 89%)\n",
            "updating: content/ProyectoCircuitos-ANN/DataPrep/Componentes/Capacitores-Ceramicos/ (stored 0%)\n",
            "updating: content/ProyectoCircuitos-ANN/DataPrep/Componentes/Capacitores-Ceramicos/Capacitores-CeramicosData (deflated 89%)\n",
            "updating: content/ProyectoCircuitos-ANN/DataPrep/Componentes/Capacitores-Ceramicos/Capacitores-CeramicosTarget (deflated 96%)\n",
            "updating: content/ProyectoCircuitos-ANN/DataPrep/Componentes/Bocinas/ (stored 0%)\n",
            "updating: content/ProyectoCircuitos-ANN/DataPrep/Componentes/Bocinas/BocinasTarget (deflated 93%)\n",
            "updating: content/ProyectoCircuitos-ANN/DataPrep/Componentes/Bocinas/BocinasData (deflated 88%)\n",
            "updating: content/ProyectoCircuitos-ANN/DataPrep/Componentes/Circuitos Integrados/ (stored 0%)\n",
            "updating: content/ProyectoCircuitos-ANN/DataPrep/Componentes/Circuitos Integrados/Circuitos IntegradosData (deflated 89%)\n",
            "updating: content/ProyectoCircuitos-ANN/DataPrep/Componentes/Circuitos Integrados/Circuitos IntegradosTarget (deflated 97%)\n",
            "updating: content/ProyectoCircuitos-ANN/DataPrep/Componentes/Transistores/ (stored 0%)\n",
            "updating: content/ProyectoCircuitos-ANN/DataPrep/Componentes/Transistores/TransistoresTarget (deflated 95%)\n",
            "updating: content/ProyectoCircuitos-ANN/DataPrep/Componentes/Transistores/TransistoresData (deflated 90%)\n",
            "updating: content/ProyectoCircuitos-ANN/DataPrep/Componentes/PushButtons/ (stored 0%)\n",
            "updating: content/ProyectoCircuitos-ANN/DataPrep/Componentes/PushButtons/PushButtonsData (deflated 89%)\n",
            "updating: content/ProyectoCircuitos-ANN/DataPrep/Componentes/PushButtons/PushButtonsTarget (deflated 85%)\n",
            "updating: content/ProyectoCircuitos-ANN/DataPrep/Componentes/DipSwitches/ (stored 0%)\n",
            "updating: content/ProyectoCircuitos-ANN/DataPrep/Componentes/DipSwitches/DipSwitchesData (deflated 89%)\n",
            "updating: content/ProyectoCircuitos-ANN/DataPrep/Componentes/DipSwitches/DipSwitchesTarget (deflated 86%)\n",
            "updating: content/ProyectoCircuitos-ANN/DataPrep/Componentes/Baterias/ (stored 0%)\n",
            "updating: content/ProyectoCircuitos-ANN/DataPrep/Componentes/Baterias/BateriasData (deflated 90%)\n",
            "updating: content/ProyectoCircuitos-ANN/DataPrep/Componentes/Baterias/BateriasTarget (deflated 90%)\n",
            "updating: content/ProyectoCircuitos-ANN/DataPrep/Componentes/Conectores/ (stored 0%)\n",
            "updating: content/ProyectoCircuitos-ANN/DataPrep/Componentes/Conectores/ConectoresData (deflated 89%)\n",
            "updating: content/ProyectoCircuitos-ANN/DataPrep/Componentes/Conectores/ConectoresTarget (deflated 91%)\n"
          ],
          "name": "stdout"
        }
      ]
    },
    {
      "cell_type": "code",
      "metadata": {
        "id": "oevIuZAlvok0",
        "colab": {
          "base_uri": "https://localhost:8080/",
          "height": 17
        },
        "outputId": "abf67fb1-ad2f-4fac-ec79-68675102bd94"
      },
      "source": [
        "#Descarga del FOLDER con modificaciones\n",
        "files.download(\"file.zip\") "
      ],
      "execution_count": 98,
      "outputs": [
        {
          "output_type": "display_data",
          "data": {
            "application/javascript": [
              "\n",
              "    async function download(id, filename, size) {\n",
              "      if (!google.colab.kernel.accessAllowed) {\n",
              "        return;\n",
              "      }\n",
              "      const div = document.createElement('div');\n",
              "      const label = document.createElement('label');\n",
              "      label.textContent = `Downloading \"${filename}\": `;\n",
              "      div.appendChild(label);\n",
              "      const progress = document.createElement('progress');\n",
              "      progress.max = size;\n",
              "      div.appendChild(progress);\n",
              "      document.body.appendChild(div);\n",
              "\n",
              "      const buffers = [];\n",
              "      let downloaded = 0;\n",
              "\n",
              "      const channel = await google.colab.kernel.comms.open(id);\n",
              "      // Send a message to notify the kernel that we're ready.\n",
              "      channel.send({})\n",
              "\n",
              "      for await (const message of channel.messages) {\n",
              "        // Send a message to notify the kernel that we're ready.\n",
              "        channel.send({})\n",
              "        if (message.buffers) {\n",
              "          for (const buffer of message.buffers) {\n",
              "            buffers.push(buffer);\n",
              "            downloaded += buffer.byteLength;\n",
              "            progress.value = downloaded;\n",
              "          }\n",
              "        }\n",
              "      }\n",
              "      const blob = new Blob(buffers, {type: 'application/binary'});\n",
              "      const a = document.createElement('a');\n",
              "      a.href = window.URL.createObjectURL(blob);\n",
              "      a.download = filename;\n",
              "      div.appendChild(a);\n",
              "      a.click();\n",
              "      div.remove();\n",
              "    }\n",
              "  "
            ],
            "text/plain": [
              "<IPython.core.display.Javascript object>"
            ]
          },
          "metadata": {
            "tags": []
          }
        },
        {
          "output_type": "display_data",
          "data": {
            "application/javascript": [
              "download(\"download_c966632a-e106-41c0-b6d6-13e71e71096b\", \"file.zip\", 3162698)"
            ],
            "text/plain": [
              "<IPython.core.display.Javascript object>"
            ]
          },
          "metadata": {
            "tags": []
          }
        }
      ]
    },
    {
      "cell_type": "markdown",
      "metadata": {
        "id": "zkIF_CmvRxr_"
      },
      "source": [
        "#### Función de Carga de datos Preprocesados"
      ]
    },
    {
      "cell_type": "code",
      "metadata": {
        "id": "UU0tZuyIR_eu"
      },
      "source": [
        "def CargadorDatos(dirOrigen, n,personajes):\n",
        "  #Se elige directorio origen y número de personajes\n",
        "  x_v =[]\n",
        "  y_v =[]\n",
        "  i = 0 #indice de personaje\n",
        "  t = 0 #total de personajes agregados\n",
        "  while t < n:\n",
        "  \n",
        "    personaje = personajes[i]\n",
        "    os.chdir(dirOrigen+'/'+personaje)\n",
        "\n",
        "    #cargar todo  con 64x64 \n",
        "\n",
        "    #LOAD \n",
        "    data = pickle.load(open(personaje+'Data','rb')) \n",
        "    \n",
        "    #If a implementar para regular que personajes pueden ser cargados\n",
        "    # 0 -> todos serán considerados\n",
        "    # \n",
        "    if(len(data)>0):    \n",
        "      t=t+1\n",
        "      x_v.extend( data )\n",
        "      y_v.extend( pickle.load( open(personaje+'Target','rb'))  )\n",
        "    i=i+1 \n",
        "  return np.array(x_v) , np.array(y_v)"
      ],
      "execution_count": null,
      "outputs": []
    },
    {
      "cell_type": "code",
      "metadata": {
        "id": "kwS2rZ4XSBxQ"
      },
      "source": [
        "#implementación de la función anterior\n"
      ],
      "execution_count": null,
      "outputs": []
    },
    {
      "cell_type": "code",
      "metadata": {
        "id": "ajQqHxnQSFK4"
      },
      "source": [
        "#Forma de los datos"
      ],
      "execution_count": null,
      "outputs": []
    },
    {
      "cell_type": "code",
      "metadata": {
        "id": "RPzqEnSSUbDG"
      },
      "source": [
        ""
      ],
      "execution_count": null,
      "outputs": []
    }
  ]
}