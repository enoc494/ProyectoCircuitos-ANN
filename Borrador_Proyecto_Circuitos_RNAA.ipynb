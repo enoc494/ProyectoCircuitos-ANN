{
  "nbformat": 4,
  "nbformat_minor": 0,
  "metadata": {
    "colab": {
      "name": "Borrador Proyecto Circuitos -RNAA",
      "provenance": [],
      "collapsed_sections": [],
      "authorship_tag": "ABX9TyO7RwY/XzNpUt8PW9/LpMXC",
      "include_colab_link": true
    },
    "kernelspec": {
      "name": "python3",
      "display_name": "Python 3"
    },
    "language_info": {
      "name": "python"
    }
  },
  "cells": [
    {
      "cell_type": "markdown",
      "metadata": {
        "id": "view-in-github",
        "colab_type": "text"
      },
      "source": [
        "<a href=\"https://colab.research.google.com/github/enoc494/ProyectoCircuitos-ANN/blob/master/Borrador_Proyecto_Circuitos_RNAA.ipynb\" target=\"_parent\"><img src=\"https://colab.research.google.com/assets/colab-badge.svg\" alt=\"Open In Colab\"/></a>"
      ]
    },
    {
      "cell_type": "code",
      "metadata": {
        "id": "b9fezt7z84ks"
      },
      "source": [
        ""
      ],
      "execution_count": null,
      "outputs": []
    },
    {
      "cell_type": "markdown",
      "metadata": {
        "id": "PHQXcULP84-6"
      },
      "source": [
        "Proyecto, borrador\n"
      ]
    },
    {
      "cell_type": "markdown",
      "metadata": {
        "id": "Ep_6_rg_86nW"
      },
      "source": [
        "# Parte I: Preprocesado y carga"
      ]
    },
    {
      "cell_type": "code",
      "metadata": {
        "id": "1LvBhhffBzN8"
      },
      "source": [
        "# Bloque de imports\n",
        "import numpy as np\n",
        "import matplotlib.pyplot as plt\n",
        "%matplotlib inline  \n",
        "\n",
        "from PIL import Image,ImageOps #Libreria de imagenes\n",
        "import os\n",
        "from shutil import rmtree #Para limpieza de datos\n",
        "import pickle\n",
        "\n",
        "from sklearn.model_selection import train_test_split\n",
        "from sklearn.preprocessing import OneHotEncoder\n",
        "from sklearn.utils import shuffle #porque sino vamos a meter en orden las cosas***\n",
        "import tensorflow as tf\n",
        "\n",
        "#Para descargar los archivos:\n",
        "from google.colab import files\n",
        "\n",
        "\n",
        "#Para tensorboard:\n",
        "%load_ext tensorboard\n",
        "import datetime"
      ],
      "execution_count": 1,
      "outputs": []
    },
    {
      "cell_type": "code",
      "metadata": {
        "id": "14L0CiXGzpGd"
      },
      "source": [
        ""
      ],
      "execution_count": 1,
      "outputs": []
    },
    {
      "cell_type": "code",
      "metadata": {
        "colab": {
          "base_uri": "https://localhost:8080/"
        },
        "id": "1ctbbTqDQ2Oo",
        "outputId": "208ec94a-ace5-4107-86ff-560999c32d25"
      },
      "source": [
        "#Obtención de información desde Git\n",
        "! git clone https://github.com/enoc494/ProyectoCircuitos-ANN.git"
      ],
      "execution_count": 2,
      "outputs": [
        {
          "output_type": "stream",
          "text": [
            "Cloning into 'ProyectoCircuitos-ANN'...\n",
            "remote: Enumerating objects: 1576, done.\u001b[K\n",
            "remote: Counting objects: 100% (1576/1576), done.\u001b[K\n",
            "remote: Compressing objects: 100% (1458/1458), done.\u001b[K\n",
            "remote: Total 1576 (delta 137), reused 1538 (delta 115), pack-reused 0\u001b[K\n",
            "Receiving objects: 100% (1576/1576), 86.04 MiB | 41.15 MiB/s, done.\n",
            "Resolving deltas: 100% (137/137), done.\n"
          ],
          "name": "stdout"
        }
      ]
    },
    {
      "cell_type": "code",
      "metadata": {
        "colab": {
          "base_uri": "https://localhost:8080/"
        },
        "id": "7_R9cuvNT6VW",
        "outputId": "28c15f1d-60ec-4ef0-fe8f-cf7b88393d83"
      },
      "source": [
        "%ls"
      ],
      "execution_count": 3,
      "outputs": [
        {
          "output_type": "stream",
          "text": [
            "\u001b[0m\u001b[01;34mProyectoCircuitos-ANN\u001b[0m/  \u001b[01;34msample_data\u001b[0m/\n"
          ],
          "name": "stdout"
        }
      ]
    },
    {
      "cell_type": "code",
      "metadata": {
        "colab": {
          "base_uri": "https://localhost:8080/"
        },
        "id": "Du6aclMFivh1",
        "outputId": "2cd23e67-12b3-4d0c-e708-f0e4b401b4be"
      },
      "source": [
        "%cd ProyectoCircuitos-ANN/"
      ],
      "execution_count": 4,
      "outputs": [
        {
          "output_type": "stream",
          "text": [
            "/content/ProyectoCircuitos-ANN\n"
          ],
          "name": "stdout"
        }
      ]
    },
    {
      "cell_type": "code",
      "metadata": {
        "colab": {
          "base_uri": "https://localhost:8080/"
        },
        "id": "oZgFA9qGiym9",
        "outputId": "1cac8825-5f1a-413e-e58a-b5e59092e7ad"
      },
      "source": [
        "%ls"
      ],
      "execution_count": 5,
      "outputs": [
        {
          "output_type": "stream",
          "text": [
            "Borrador_Proyecto_Circuitos_RNAA.ipynb  \u001b[0m\u001b[01;34mData0\u001b[0m/  Data0.rar  Log.txt  README.md\n"
          ],
          "name": "stdout"
        }
      ]
    },
    {
      "cell_type": "code",
      "metadata": {
        "id": "iSPuhDlR0jB3"
      },
      "source": [
        "!cd /content/ProyectoCircuitos-ANN"
      ],
      "execution_count": 6,
      "outputs": []
    },
    {
      "cell_type": "code",
      "metadata": {
        "colab": {
          "base_uri": "https://localhost:8080/",
          "height": 35
        },
        "id": "Un5cEVjNjBW8",
        "outputId": "53a57d4b-885a-4a79-e780-89ae42fc1a9d"
      },
      "source": [
        "os.getcwd()"
      ],
      "execution_count": 7,
      "outputs": [
        {
          "output_type": "execute_result",
          "data": {
            "application/vnd.google.colaboratory.intrinsic+json": {
              "type": "string"
            },
            "text/plain": [
              "'/content/ProyectoCircuitos-ANN'"
            ]
          },
          "metadata": {
            "tags": []
          },
          "execution_count": 7
        }
      ]
    },
    {
      "cell_type": "code",
      "metadata": {
        "id": "nMGJci-VRK-p"
      },
      "source": [
        "#paths declarados de utilidad \n",
        "dir = \"/content/ProyectoCircuitos-ANN/\"\n",
        "dirData = dir+'/Data0'\n",
        "\n"
      ],
      "execution_count": 8,
      "outputs": []
    },
    {
      "cell_type": "code",
      "metadata": {
        "id": "4dnclUYfuZOa",
        "colab": {
          "base_uri": "https://localhost:8080/",
          "height": 35
        },
        "outputId": "8c8d1f05-4a34-49af-f340-8bba65bdc0c9"
      },
      "source": [
        "dir"
      ],
      "execution_count": 9,
      "outputs": [
        {
          "output_type": "execute_result",
          "data": {
            "application/vnd.google.colaboratory.intrinsic+json": {
              "type": "string"
            },
            "text/plain": [
              "'/content/ProyectoCircuitos-ANN/'"
            ]
          },
          "metadata": {
            "tags": []
          },
          "execution_count": 9
        }
      ]
    },
    {
      "cell_type": "code",
      "metadata": {
        "colab": {
          "base_uri": "https://localhost:8080/"
        },
        "id": "cteaqHCejGyz",
        "outputId": "adaba965-e41e-440c-8cb5-e817d1f14088"
      },
      "source": [
        "os.listdir()"
      ],
      "execution_count": 10,
      "outputs": [
        {
          "output_type": "execute_result",
          "data": {
            "text/plain": [
              "['README.md',\n",
              " 'Data0',\n",
              " '.git',\n",
              " 'Borrador_Proyecto_Circuitos_RNAA.ipynb',\n",
              " 'Log.txt',\n",
              " 'Data0.rar']"
            ]
          },
          "metadata": {
            "tags": []
          },
          "execution_count": 10
        }
      ]
    },
    {
      "cell_type": "code",
      "metadata": {
        "id": "RZFWU6ymj2HT"
      },
      "source": [
        "#listado de Tipos de entradas\n",
        "os.chdir(dirData)\n",
        "listaDeEntradas = os.listdir()"
      ],
      "execution_count": 11,
      "outputs": []
    },
    {
      "cell_type": "code",
      "metadata": {
        "colab": {
          "base_uri": "https://localhost:8080/"
        },
        "id": "CBI1YkoHlv79",
        "outputId": "f9e9640b-a283-444d-cc07-687e8e9b65b6"
      },
      "source": [
        "listaDeEntradas"
      ],
      "execution_count": 12,
      "outputs": [
        {
          "output_type": "execute_result",
          "data": {
            "text/plain": [
              "['Esquematico', 'Componentes']"
            ]
          },
          "metadata": {
            "tags": []
          },
          "execution_count": 12
        }
      ]
    },
    {
      "cell_type": "code",
      "metadata": {
        "id": "HZ9fzPKaj8sd"
      },
      "source": [
        "# Ejemplo de un preprocesado:\n",
        "os.chdir(dirData+'/'+listaDeEntradas[1])\n",
        "listaDeDispositivosComponentes = os.listdir()\n",
        "\n",
        "os.chdir(dirData+'/'+listaDeEntradas[0])\n",
        "listaDeDispositivosEsquematicos = os.listdir()\n",
        "\n",
        "os.chdir(dirData+'/'+listaDeEntradas[0]+'/'+listaDeDispositivosEsquematicos[0])\n",
        "imagenes = os.listdir()"
      ],
      "execution_count": 13,
      "outputs": []
    },
    {
      "cell_type": "code",
      "metadata": {
        "colab": {
          "base_uri": "https://localhost:8080/"
        },
        "id": "mWJZ1TuDlyuB",
        "outputId": "732d3f8f-af6f-4bc9-9435-925899795667"
      },
      "source": [
        "listaDeDispositivosEsquematicos"
      ],
      "execution_count": 14,
      "outputs": [
        {
          "output_type": "execute_result",
          "data": {
            "text/plain": [
              "['PushButton', 'DipSwitchs']"
            ]
          },
          "metadata": {
            "tags": []
          },
          "execution_count": 14
        }
      ]
    },
    {
      "cell_type": "code",
      "metadata": {
        "colab": {
          "base_uri": "https://localhost:8080/"
        },
        "id": "AzHTOnX2NSFp",
        "outputId": "1d9fea18-6b61-45ad-8b18-209256d759e8"
      },
      "source": [
        "listaDeDispositivosComponentes\n"
      ],
      "execution_count": 15,
      "outputs": [
        {
          "output_type": "execute_result",
          "data": {
            "text/plain": [
              "['PushButton', 'DipSwitchs']"
            ]
          },
          "metadata": {
            "tags": []
          },
          "execution_count": 15
        }
      ]
    },
    {
      "cell_type": "code",
      "metadata": {
        "colab": {
          "base_uri": "https://localhost:8080/",
          "height": 115
        },
        "id": "O48TurEWkoyL",
        "outputId": "2e0f761c-df68-4150-b7f8-f3a571b801ea"
      },
      "source": [
        "imagen = Image.open(imagenes[0])\n",
        "imagen"
      ],
      "execution_count": 16,
      "outputs": [
        {
          "output_type": "execute_result",
          "data": {
            "image/png": "[encoded data removed]",
            "text/plain": [
              "<PIL.JpegImagePlugin.JpegImageFile image mode=RGB size=64x98 at 0x7F8BD3AC3390>"
            ]
          },
          "metadata": {
            "tags": []
          },
          "execution_count": 16
        }
      ]
    },
    {
      "cell_type": "code",
      "metadata": {
        "colab": {
          "base_uri": "https://localhost:8080/",
          "height": 167
        },
        "id": "1TU4UAcLkx9P",
        "outputId": "4da22f9f-3d66-4b49-c418-635d8bca049d"
      },
      "source": [
        "imagen  = imagen.resize((64,64))  #Escalar, 64 x 64 en ejemplo\n",
        "\n",
        "#Antes del resize realizar un fill de blanco :D\n",
        "\n",
        " #Ilustración de las 3 capas a usar\n",
        "imagen2 = np.array(imagen)\n",
        "imagen2.shape\n",
        "imagen2=imagen2.transpose( 2,0,1 )\n",
        "\n",
        "fig1 = plt.figure(figsize=(6,10))\n",
        "ax   = fig1.add_subplot(1,3,1)\n",
        "ax.imshow(imagen2[0],cmap='gray')\n",
        "ax   = fig1.add_subplot(1,3,2)\n",
        "ax.imshow(imagen2[1],cmap='gray')\n",
        "ax   = fig1.add_subplot(1,3,3)\n",
        "ax.imshow(imagen2[2],cmap='gray')"
      ],
      "execution_count": 17,
      "outputs": [
        {
          "output_type": "execute_result",
          "data": {
            "text/plain": [
              "<matplotlib.image.AxesImage at 0x7f8b841ae550>"
            ]
          },
          "metadata": {
            "tags": []
          },
          "execution_count": 17
        },
        {
          "output_type": "display_data",
          "data": {
            "image/png": "[encoded data removed]",
            "text/plain": [
              "<Figure size 432x720 with 3 Axes>"
            ]
          },
          "metadata": {
            "tags": [],
            "needs_background": "light"
          }
        }
      ]
    },
    {
      "cell_type": "code",
      "metadata": {
        "colab": {
          "base_uri": "https://localhost:8080/"
        },
        "id": "6wozZHP2SVu2",
        "outputId": "ed728f70-2b6a-4cea-9a19-2139e0598195"
      },
      "source": [
        "#Limpieza del directorio por si hubo algo antes de preprocesar:\n",
        "try:\n",
        "  rmtree( dir +'DataPrep')\n",
        "except FileNotFoundError:\n",
        "  print('nada que borrar')"
      ],
      "execution_count": 20,
      "outputs": [
        {
          "output_type": "stream",
          "text": [
            "nada que borrar\n"
          ],
          "name": "stdout"
        }
      ]
    },
    {
      "cell_type": "markdown",
      "metadata": {
        "id": "U92ZT8BERsIQ"
      },
      "source": [
        "#### Función de Carga, Preprocesado y Guardado de Datos\n"
      ]
    },
    {
      "cell_type": "code",
      "metadata": {
        "id": "M0Sn1F2ARusA"
      },
      "source": [
        "#función para preprocesar datos:\n",
        "def PreprocesarDatos(resize,tipo,dispositivos):\n",
        "  \"\"\"\n",
        "  el tamaño deseado,\n",
        "  tipo ingresado\n",
        "  la lista de dispositivos a revisar (la lista de las clases es diferente!!!)\n",
        "  \"\"\"\n",
        "\n",
        "  #Este proceso se debe repetir para cada tipo\n",
        "\n",
        "  os.chdir(dir) # Carpeta superior \n",
        "  #Preparamos sitios de almacenamiento\n",
        "\n",
        "  try:\n",
        "    os.chdir( dir+'DataPrep/')  \n",
        "  except FileNotFoundError:\n",
        "    os.mkdir( dir+'DataPrep/')\n",
        "    os.chdir( dir+'DataPrep/')\n",
        "  \n",
        "  try:\n",
        "    os.chdir( dir+'DataPrep/'+tipo)  \n",
        "  except FileNotFoundError:\n",
        "    os.mkdir( dir+'DataPrep/'+tipo)\n",
        "    os.chdir( dir+'DataPrep/'+tipo)\n",
        "  \n",
        "  for dispositivo in dispositivos:\n",
        "    #Por cada tipo realizaremos el número de carpeta correspondiente\n",
        "    try:\n",
        "      os.chdir( dir+'DataPrep/'+tipo+'/'+dispositivo)  \n",
        "    except FileNotFoundError:\n",
        "      os.mkdir( dir+'DataPrep/'+tipo+'/'+dispositivo)\n",
        "      os.chdir( dir+'DataPrep/'+tipo+'/'+dispositivo)\n",
        "    #Con la carpeta destino creada nos movemos a la ubicación de las imagenes\n",
        "\n",
        "    os.chdir(dir+'Data0/'+tipo+'/'+dispositivo) #Se supone existe\n",
        "    print('Actualmente en: ',tipo+', '+dispositivo)\n",
        "    \n",
        "    imagenes = os.listdir()\n",
        "  \n",
        "    #Acumuladores de datos procesados\n",
        "    x_v=[]\n",
        "    y_v=[]\n",
        "    for imagenName in imagenes:\n",
        "  \n",
        "      imagen  = Image.open(imagenName)\n",
        "      imagen = imagen.convert('RGB') #Todo a RGB\n",
        "\n",
        "      #RELLENAR DE BLANCO!!! si no es cuadrada :v \n",
        "\n",
        "      imagen  = imagen.resize((resize,resize))  #Escalar\n",
        "\n",
        "      imagen = np.array(imagen)\n",
        "      imagen = imagen/255 #Normalizado\n",
        "    \n",
        "      #Revisar que todas las imagenes cumplan*\n",
        "      x_v.append(imagen)\n",
        "\n",
        "    y_v.append(dispositivo)\n",
        "    y_v=y_v*len(x_v) #Número de veces que se debe repetir el target\n",
        "    x_v=np.array(x_v)\n",
        "    y_v=np.array(y_v)\n",
        "  \n",
        "    #Esto se puede hacer con un with\n",
        "    os.chdir(dir +'DataPrep/'+tipo+'/'+dispositivo) \n",
        "    pickle.dump(x_v, open(dispositivo+\"Data\", 'wb'))\n",
        "    pickle.dump(y_v, open(dispositivo+\"Target\", 'wb'))\n",
        "    #Regresamos al directorio donde se encuentran el resto, mejorar con with\n",
        "\n",
        "\n"
      ],
      "execution_count": 21,
      "outputs": []
    },
    {
      "cell_type": "code",
      "metadata": {
        "id": "yHHmHcBvR5SB",
        "colab": {
          "base_uri": "https://localhost:8080/"
        },
        "outputId": "630617ff-ef12-4b9a-d809-0a1901ba68b9"
      },
      "source": [
        "#Implementación de la función anterior\n",
        "PreprocesarDatos(32,listaDeEntradas[0],listaDeDispositivosEsquematicos) #Preprocesa Esquematicos\n",
        "PreprocesarDatos(32,listaDeEntradas[1],listaDeDispositivosComponentes)  #Preprocesa Componentes\n"
      ],
      "execution_count": 22,
      "outputs": [
        {
          "output_type": "stream",
          "text": [
            "Actualmente en:  Esquematico, PushButton\n",
            "Actualmente en:  Esquematico, DipSwitchs\n",
            "Actualmente en:  Componentes, PushButton\n",
            "Actualmente en:  Componentes, DipSwitchs\n"
          ],
          "name": "stdout"
        }
      ]
    },
    {
      "cell_type": "code",
      "metadata": {
        "id": "HMLKbM2BwTcN",
        "colab": {
          "base_uri": "https://localhost:8080/",
          "height": 35
        },
        "outputId": "e96a9381-31c6-4939-ae09-bda49fecbdac"
      },
      "source": [
        "dir+'/DataPrep'"
      ],
      "execution_count": 23,
      "outputs": [
        {
          "output_type": "execute_result",
          "data": {
            "application/vnd.google.colaboratory.intrinsic+json": {
              "type": "string"
            },
            "text/plain": [
              "'/content/ProyectoCircuitos-ANN//DataPrep'"
            ]
          },
          "metadata": {
            "tags": []
          },
          "execution_count": 23
        }
      ]
    },
    {
      "cell_type": "code",
      "metadata": {
        "id": "6xxB3Vp_2n7y"
      },
      "source": [
        "path=os.getcwd()"
      ],
      "execution_count": 24,
      "outputs": []
    },
    {
      "cell_type": "code",
      "metadata": {
        "id": "NGd4NfH-wm7c",
        "colab": {
          "base_uri": "https://localhost:8080/"
        },
        "outputId": "24646456-f132-4afb-d88c-c3d4697a7471"
      },
      "source": [
        "!zip -r file.zip /content/ProyectoCircuitos-ANN/DataPrep "
      ],
      "execution_count": 26,
      "outputs": [
        {
          "output_type": "stream",
          "text": [
            "updating: content/ProyectoCircuitos-ANN/DataPrep/ (stored 0%)\n",
            "updating: content/ProyectoCircuitos-ANN/DataPrep/Esquematico/ (stored 0%)\n",
            "updating: content/ProyectoCircuitos-ANN/DataPrep/Esquematico/PushButton/ (stored 0%)\n",
            "updating: content/ProyectoCircuitos-ANN/DataPrep/Esquematico/PushButton/PushButtonData (deflated 94%)\n",
            "updating: content/ProyectoCircuitos-ANN/DataPrep/Esquematico/PushButton/PushButtonTarget (deflated 64%)\n",
            "updating: content/ProyectoCircuitos-ANN/DataPrep/Esquematico/DipSwitchs/ (stored 0%)\n",
            "updating: content/ProyectoCircuitos-ANN/DataPrep/Esquematico/DipSwitchs/DipSwitchsTarget (deflated 59%)\n",
            "updating: content/ProyectoCircuitos-ANN/DataPrep/Esquematico/DipSwitchs/DipSwitchsData (deflated 95%)\n",
            "updating: content/ProyectoCircuitos-ANN/DataPrep/Componentes/ (stored 0%)\n",
            "updating: content/ProyectoCircuitos-ANN/DataPrep/Componentes/PushButton/ (stored 0%)\n",
            "updating: content/ProyectoCircuitos-ANN/DataPrep/Componentes/PushButton/PushButtonData (deflated 86%)\n",
            "updating: content/ProyectoCircuitos-ANN/DataPrep/Componentes/PushButton/PushButtonTarget (deflated 84%)\n",
            "updating: content/ProyectoCircuitos-ANN/DataPrep/Componentes/DipSwitchs/ (stored 0%)\n",
            "updating: content/ProyectoCircuitos-ANN/DataPrep/Componentes/DipSwitchs/DipSwitchsTarget (deflated 85%)\n",
            "updating: content/ProyectoCircuitos-ANN/DataPrep/Componentes/DipSwitchs/DipSwitchsData (deflated 85%)\n"
          ],
          "name": "stdout"
        }
      ]
    },
    {
      "cell_type": "code",
      "metadata": {
        "id": "oevIuZAlvok0",
        "colab": {
          "base_uri": "https://localhost:8080/",
          "height": 17
        },
        "outputId": "050d0b0e-5fbe-47f0-c31d-a01d190370f4"
      },
      "source": [
        "#Descarga del FOLDER con modificaciones\n",
        "files.download(\"file.zip\") "
      ],
      "execution_count": 27,
      "outputs": [
        {
          "output_type": "display_data",
          "data": {
            "application/javascript": [
              "\n",
              "    async function download(id, filename, size) {\n",
              "      if (!google.colab.kernel.accessAllowed) {\n",
              "        return;\n",
              "      }\n",
              "      const div = document.createElement('div');\n",
              "      const label = document.createElement('label');\n",
              "      label.textContent = `Downloading \"${filename}\": `;\n",
              "      div.appendChild(label);\n",
              "      const progress = document.createElement('progress');\n",
              "      progress.max = size;\n",
              "      div.appendChild(progress);\n",
              "      document.body.appendChild(div);\n",
              "\n",
              "      const buffers = [];\n",
              "      let downloaded = 0;\n",
              "\n",
              "      const channel = await google.colab.kernel.comms.open(id);\n",
              "      // Send a message to notify the kernel that we're ready.\n",
              "      channel.send({})\n",
              "\n",
              "      for await (const message of channel.messages) {\n",
              "        // Send a message to notify the kernel that we're ready.\n",
              "        channel.send({})\n",
              "        if (message.buffers) {\n",
              "          for (const buffer of message.buffers) {\n",
              "            buffers.push(buffer);\n",
              "            downloaded += buffer.byteLength;\n",
              "            progress.value = downloaded;\n",
              "          }\n",
              "        }\n",
              "      }\n",
              "      const blob = new Blob(buffers, {type: 'application/binary'});\n",
              "      const a = document.createElement('a');\n",
              "      a.href = window.URL.createObjectURL(blob);\n",
              "      a.download = filename;\n",
              "      div.appendChild(a);\n",
              "      a.click();\n",
              "      div.remove();\n",
              "    }\n",
              "  "
            ],
            "text/plain": [
              "<IPython.core.display.Javascript object>"
            ]
          },
          "metadata": {
            "tags": []
          }
        },
        {
          "output_type": "display_data",
          "data": {
            "application/javascript": [
              "download(\"download_7e1d890d-df3b-4c13-9434-b780bc8201f3\", \"file.zip\", 187708)"
            ],
            "text/plain": [
              "<IPython.core.display.Javascript object>"
            ]
          },
          "metadata": {
            "tags": []
          }
        }
      ]
    },
    {
      "cell_type": "markdown",
      "metadata": {
        "id": "zkIF_CmvRxr_"
      },
      "source": [
        "#### Función de Carga de datos Preprocesados"
      ]
    },
    {
      "cell_type": "code",
      "metadata": {
        "id": "UU0tZuyIR_eu"
      },
      "source": [
        "def CargadorDatos(dirOrigen, n,personajes):\n",
        "  #Se elige directorio origen y número de personajes\n",
        "  x_v =[]\n",
        "  y_v =[]\n",
        "  i = 0 #indice de personaje\n",
        "  t = 0 #total de personajes agregados\n",
        "  while t < n:\n",
        "  \n",
        "    personaje = personajes[i]\n",
        "    os.chdir(dirOrigen+'/'+personaje)\n",
        "\n",
        "    #cargar todo  con 64x64 \n",
        "\n",
        "    #LOAD \n",
        "    data = pickle.load(open(personaje+'Data','rb')) \n",
        "    \n",
        "    #If a implementar para regular que personajes pueden ser cargados\n",
        "    # 0 -> todos serán considerados\n",
        "    # \n",
        "    if(len(data)>0):    \n",
        "      t=t+1\n",
        "      x_v.extend( data )\n",
        "      y_v.extend( pickle.load( open(personaje+'Target','rb'))  )\n",
        "    i=i+1 \n",
        "  return np.array(x_v) , np.array(y_v)"
      ],
      "execution_count": 28,
      "outputs": []
    },
    {
      "cell_type": "code",
      "metadata": {
        "id": "kwS2rZ4XSBxQ"
      },
      "source": [
        "#implementación de la función anterior\n"
      ],
      "execution_count": 29,
      "outputs": []
    },
    {
      "cell_type": "code",
      "metadata": {
        "id": "ajQqHxnQSFK4"
      },
      "source": [
        "#Forma de los datos"
      ],
      "execution_count": 30,
      "outputs": []
    },
    {
      "cell_type": "code",
      "metadata": {
        "id": "RPzqEnSSUbDG"
      },
      "source": [
        ""
      ],
      "execution_count": null,
      "outputs": []
    }
  ]
}