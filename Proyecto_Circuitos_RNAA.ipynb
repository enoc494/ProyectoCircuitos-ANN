{
  "nbformat": 4,
  "nbformat_minor": 0,
  "metadata": {
    "colab": {
      "name": "Proyecto Circuitos -RNAA",
      "provenance": [],
      "collapsed_sections": []
    },
    "kernelspec": {
      "name": "python3",
      "display_name": "Python 3"
    },
    "language_info": {
      "name": "python"
    },
    "accelerator": "GPU"
  },
  "cells": [
    {
      "cell_type": "markdown",
      "metadata": {
        "id": "PHQXcULP84-6"
      },
      "source": [
        "Proyecto, parte 1: Preprocesamiento y guardado\n"
      ]
    },
    {
      "cell_type": "code",
      "metadata": {
        "colab": {
          "base_uri": "https://localhost:8080/"
        },
        "id": "zti2enNEHFB0",
        "outputId": "97893116-131a-4c00-ccab-d8d93a7284b9"
      },
      "source": [
        "from google.colab import drive\n",
        "drive.mount('/content/drive')"
      ],
      "execution_count": 112,
      "outputs": [
        {
          "output_type": "stream",
          "text": [
            "Mounted at /content/drive\n"
          ],
          "name": "stdout"
        }
      ]
    },
    {
      "cell_type": "markdown",
      "metadata": {
        "id": "8LRksmXTelS2"
      },
      "source": [
        "El proyecto se separará en dos redes, la encargada de clasificar los esquematicos y la encargada de clasificar los componentes. \n",
        "\n",
        "De momento se realizaron los siguientes cambios:\n",
        "- Inspección de todas las imagenes para retirar cualquier archivo que no fuera de algún tipo de imagen\n",
        "- renombrado de las carpetas correspondientes para tener (tipo se refiere a esquematico o componente, y dispositivo al nombre en sí):\n",
        "  - Data/\"Tipo\"/\"Dispositivo\"  \n",
        "- Preprocesado cargando las carpetas previas, escalado 64x64 y 32x32 para pruebas\n",
        "  - Aquellas imagenes que no fueran cuadradas se les agregó un fondo blanco cuadrado igual a su dimensión mayor\n",
        "  - Todas se convirtieron a RGB para que tuvieran 3 capas (algunos esquematicos usan colores)\n",
        "\n",
        "- Listado de razones:\n",
        "  - Se escalo a 64 y 32 como números usuales y para comparar resultados\n",
        "  - Se agregó un fondo para evitar deformaciones en dispositivos que son alargados (resistencias) y de los esquematicos.\n",
        "    - El fondo es blanco ya que ya existe una parte del conjunto que es así\n",
        "  - Se convierte a RGB para homogeniezar las capas de la entrada\n",
        "  - Posiblemente se mezclen las categorias de: Motor con Ventilador, Capacitores ceramicos con Capacitores electrolitico, Diodo led con Diodo en la tarea de esquematicos al ser muy similares.\n",
        "\n",
        "El preprocesador carga los datos originales desde Github, se forma un zip y se descarga. \\\n",
        "Esta parte ya está comentada y directamente cargo el zip previamente generado desde Github también.\\\n",
        "Los datos están guardados en formato np.array y son cargados con pickle\n",
        "\n"
      ]
    },
    {
      "cell_type": "markdown",
      "metadata": {
        "id": "jdrTtDsTlJj9"
      },
      "source": [
        "Proyecto Parte 2: Implementado completo\n",
        "\n",
        "- Cambios respecto la parte anterior: Se modificó la base de datos para el preprocesamiento:\n",
        "  - Similitud en esquematicos de 3 pares de clases (motor/ventilador, led/diodo, y capacitor ceramico y capacitor electrolitico)\n",
        "- Forma de aplicación: Se realizaron 2 redes, una para cada uno de los problemas, la arquitectura es similar cambiando el tamaño de los filtros (este cambio se ilustra usando parentesis y corchetes)\n",
        "\n",
        "\n",
        "- Arquitectura de las redes: \\\n",
        "En general se emplean funciones de activación ReLU y BatchNormalization(considerando normalizado y escalado) \\\n",
        "(Componentes), [Esquematicos]\n",
        "\n",
        "  - Red de (Componentes)/[Esquematicos]: \n",
        "    - 3 convolucionales en paralelo de 8 filtros cada una\n",
        "      - (9x9, 2x7 y 7x2) , [3x3, 1x5, 5x1]\n",
        "    - 1 convolucional de 16 filtros \n",
        "      - (5x5)\n",
        "    - DropOut\n",
        "    - Densa de 512\n",
        "    - DropOut\n",
        "    - Densa de número de componentes\n",
        "    - Softmax\n",
        "- Función de error: Entropia Cruzada Multietiqueta + Norma L2, $\\lambda = 10^{-6}$\n",
        "\n",
        "- Optimizador: Adam, Lr = 0.05, $\\epsilon= 10^{-10}$   \n",
        "\n",
        "- Resultados: Ambas redes logran un 90% (en training) y un (50% en test) de accuracy\n",
        "\n",
        "- Consideraciones: \\\n",
        "El dataset preprocesado, así como las versiones de los modelos entrenados son cargadas desde GitHub, \n",
        "nuevamente se comentan los pasos de:\n",
        "- Preprocesamiento\n",
        "- Entrenamiento\n",
        "\n",
        "Se considera que el sistema tiene un overfitting, la cantidad de entradas es mucho menor que el número de parametros. \\\n",
        "El sistema tuvo mejores iteraciones pero se debieron a la inicialización de los pesos. \\\n",
        "En el caso de esquematicos, la cantidad de capacitores presenta un desbalance en el clasificador.\n",
        "Siguen existiendo problemas de similitud entre componentes de geometría similar (cilindros, circulos y rectangulos se confunden entre sí)\\\n",
        "Se recomienda emplear en lugar de sólo 2 redes un ensable de clasificadores:\n",
        "- Primer clasificador distingue entre esquematico/componente\n",
        "- Segundo clasificador separa la geometría  (cilindrico, rectangular, circular)\n",
        "- Tercerá capa de redes clasifica el esquematico/componente dependiendo de la geometría (son 6 clasificadores en la tercer capa)\n",
        "\n"
      ]
    },
    {
      "cell_type": "markdown",
      "metadata": {
        "id": "Ep_6_rg_86nW"
      },
      "source": [
        "# Parte I: Preprocesado y carga"
      ]
    },
    {
      "cell_type": "code",
      "metadata": {
        "id": "1LvBhhffBzN8",
        "colab": {
          "base_uri": "https://localhost:8080/"
        },
        "outputId": "6503f7ff-09dc-491b-aa39-e596ff29424c"
      },
      "source": [
        "# Bloque de imports\n",
        "import numpy as np\n",
        "import matplotlib.pyplot as plt\n",
        "%matplotlib inline  \n",
        "\n",
        "from PIL import Image,ImageOps, ImageDraw #Libreria de imagenes\n",
        "import os\n",
        "from shutil import rmtree #Para limpieza de datos\n",
        "import pickle\n",
        "\n",
        "from sklearn.model_selection import train_test_split\n",
        "from sklearn.preprocessing import OneHotEncoder\n",
        "from sklearn.utils import shuffle\n",
        "from sklearn.metrics import confusion_matrix\n",
        "\n",
        "import tensorflow as tf\n",
        "\n",
        "#Para descargar los archivos:\n",
        "from google.colab import files\n",
        "\n",
        "\n",
        "#Para tensorboard:\n",
        "%load_ext tensorboard\n",
        "import datetime"
      ],
      "execution_count": 113,
      "outputs": [
        {
          "output_type": "stream",
          "text": [
            "The tensorboard extension is already loaded. To reload it, use:\n",
            "  %reload_ext tensorboard\n"
          ],
          "name": "stdout"
        }
      ]
    },
    {
      "cell_type": "code",
      "metadata": {
        "colab": {
          "base_uri": "https://localhost:8080/"
        },
        "id": "1ctbbTqDQ2Oo",
        "outputId": "913ed1d8-5364-4797-83e5-b0a79a87e47a"
      },
      "source": [
        "#Obtención de información desde Git\n",
        "! git clone https://github.com/enoc494/ProyectoCircuitos-ANN.git"
      ],
      "execution_count": 114,
      "outputs": [
        {
          "output_type": "stream",
          "text": [
            "Cloning into 'ProyectoCircuitos-ANN'...\n",
            "remote: Enumerating objects: 2332, done.\u001b[K\n",
            "remote: Counting objects: 100% (75/75), done.\u001b[K\n",
            "remote: Compressing objects: 100% (62/62), done.\u001b[K\n",
            "remote: Total 2332 (delta 31), reused 54 (delta 13), pack-reused 2257\u001b[K\n",
            "Receiving objects: 100% (2332/2332), 228.32 MiB | 22.36 MiB/s, done.\n",
            "Resolving deltas: 100% (543/543), done.\n",
            "Checking out files: 100% (1507/1507), done.\n"
          ],
          "name": "stdout"
        }
      ]
    },
    {
      "cell_type": "code",
      "metadata": {
        "colab": {
          "base_uri": "https://localhost:8080/"
        },
        "id": "7_R9cuvNT6VW",
        "outputId": "6318d1df-f20e-449b-befe-4e02049fd821"
      },
      "source": [
        "%ls"
      ],
      "execution_count": 115,
      "outputs": [
        {
          "output_type": "stream",
          "text": [
            "Bocina51.png  Bocina57.png  Bocina63.jpg  Bocina69.jpg  Bocina75.png\n",
            "Bocina52.png  Bocina58.png  Bocina64.png  Bocina70.png  \u001b[0m\u001b[01;34mProyectoCircuitos-ANN\u001b[0m/\n",
            "Bocina53.png  Bocina59.png  Bocina65.png  Bocina71.png\n",
            "Bocina54.jpg  Bocina60.jpg  Bocina66.png  Bocina72.png\n",
            "Bocina55.png  Bocina61.png  Bocina67.jpg  Bocina73.jpg\n",
            "Bocina56.png  Bocina62.png  Bocina68.png  Bocina74.jpg\n"
          ],
          "name": "stdout"
        }
      ]
    },
    {
      "cell_type": "code",
      "metadata": {
        "colab": {
          "base_uri": "https://localhost:8080/"
        },
        "id": "Du6aclMFivh1",
        "outputId": "814c889e-6319-479b-aba6-2eda76aa96d0"
      },
      "source": [
        "%cd ProyectoCircuitos-ANN/"
      ],
      "execution_count": 116,
      "outputs": [
        {
          "output_type": "stream",
          "text": [
            "/content/ProyectoCircuitos-ANN/Data/Esquematicos/Bocinas/ProyectoCircuitos-ANN\n"
          ],
          "name": "stdout"
        }
      ]
    },
    {
      "cell_type": "code",
      "metadata": {
        "colab": {
          "base_uri": "https://localhost:8080/"
        },
        "id": "oZgFA9qGiym9",
        "outputId": "bd1a1a50-9de1-4702-e290-f5bef5bb5dee"
      },
      "source": [
        "%ls"
      ],
      "execution_count": 117,
      "outputs": [
        {
          "output_type": "stream",
          "text": [
            "Borrador_Proyecto_Circuitos_RNAA.ipynb  \u001b[0m\u001b[01;34mData\u001b[0m/        Data.rar\n",
            "CNN_Componentes_Modelo_3                \u001b[01;34mData0\u001b[0m/       Log.txt\n",
            "CNN_Esquematicos_Modelo_5               \u001b[01;34mDataPrep64\u001b[0m/  README.md\n"
          ],
          "name": "stdout"
        }
      ]
    },
    {
      "cell_type": "code",
      "metadata": {
        "id": "iSPuhDlR0jB3"
      },
      "source": [
        "!cd /content/ProyectoCircuitos-ANN"
      ],
      "execution_count": 118,
      "outputs": []
    },
    {
      "cell_type": "code",
      "metadata": {
        "colab": {
          "base_uri": "https://localhost:8080/",
          "height": 35
        },
        "id": "Un5cEVjNjBW8",
        "outputId": "67a45265-a6f3-4375-b00f-a899427e2c5c"
      },
      "source": [
        "os.getcwd()"
      ],
      "execution_count": 119,
      "outputs": [
        {
          "output_type": "execute_result",
          "data": {
            "application/vnd.google.colaboratory.intrinsic+json": {
              "type": "string"
            },
            "text/plain": [
              "'/content/ProyectoCircuitos-ANN/Data/Esquematicos/Bocinas/ProyectoCircuitos-ANN'"
            ]
          },
          "metadata": {
            "tags": []
          },
          "execution_count": 119
        }
      ]
    },
    {
      "cell_type": "code",
      "metadata": {
        "id": "nMGJci-VRK-p"
      },
      "source": [
        "#paths declarados de utilidad \n",
        "dir = \"/content/ProyectoCircuitos-ANN/\"\n",
        "dirData = dir+'/Data'\n",
        "\n"
      ],
      "execution_count": 120,
      "outputs": []
    },
    {
      "cell_type": "code",
      "metadata": {
        "id": "4dnclUYfuZOa",
        "colab": {
          "base_uri": "https://localhost:8080/",
          "height": 35
        },
        "outputId": "2d145b0e-f012-4f35-c077-fed2a8234630"
      },
      "source": [
        "dir"
      ],
      "execution_count": 121,
      "outputs": [
        {
          "output_type": "execute_result",
          "data": {
            "application/vnd.google.colaboratory.intrinsic+json": {
              "type": "string"
            },
            "text/plain": [
              "'/content/ProyectoCircuitos-ANN/'"
            ]
          },
          "metadata": {
            "tags": []
          },
          "execution_count": 121
        }
      ]
    },
    {
      "cell_type": "code",
      "metadata": {
        "colab": {
          "base_uri": "https://localhost:8080/"
        },
        "id": "cteaqHCejGyz",
        "outputId": "41673025-4315-4ebd-fa5c-8fc925d2bf3f"
      },
      "source": [
        "os.listdir()"
      ],
      "execution_count": 122,
      "outputs": [
        {
          "output_type": "execute_result",
          "data": {
            "text/plain": [
              "['Data',\n",
              " 'DataPrep64',\n",
              " 'Borrador_Proyecto_Circuitos_RNAA.ipynb',\n",
              " 'README.md',\n",
              " 'CNN_Esquematicos_Modelo_5',\n",
              " 'Log.txt',\n",
              " 'Data0',\n",
              " '.git',\n",
              " 'CNN_Componentes_Modelo_3',\n",
              " 'Data.rar']"
            ]
          },
          "metadata": {
            "tags": []
          },
          "execution_count": 122
        }
      ]
    },
    {
      "cell_type": "code",
      "metadata": {
        "id": "RZFWU6ymj2HT"
      },
      "source": [
        "#listado de Tipos de entradas\n",
        "os.chdir(dirData)\n",
        "listaDeEntradas = os.listdir()"
      ],
      "execution_count": 123,
      "outputs": []
    },
    {
      "cell_type": "code",
      "metadata": {
        "colab": {
          "base_uri": "https://localhost:8080/"
        },
        "id": "CBI1YkoHlv79",
        "outputId": "a2b0fd33-00d9-4022-977f-deb1db9d06dd"
      },
      "source": [
        "listaDeEntradas"
      ],
      "execution_count": 124,
      "outputs": [
        {
          "output_type": "execute_result",
          "data": {
            "text/plain": [
              "['Componentes', 'Esquematicos']"
            ]
          },
          "metadata": {
            "tags": []
          },
          "execution_count": 124
        }
      ]
    },
    {
      "cell_type": "code",
      "metadata": {
        "id": "HZ9fzPKaj8sd"
      },
      "source": [
        "# Ejemplo de un preprocesado:\n",
        "os.chdir(dirData+'/Esquematicos/')\n",
        "listaDeDispositivosEsquematicos = os.listdir()\n",
        "\n",
        "os.chdir(dirData+'/Componentes/')\n",
        "listaDeDispositivosComponentes = os.listdir()\n",
        "\n",
        "os.chdir(dirData+'/Esquematicos/'+listaDeDispositivosEsquematicos[1])\n",
        "imagenes = os.listdir()"
      ],
      "execution_count": 125,
      "outputs": []
    },
    {
      "cell_type": "code",
      "metadata": {
        "colab": {
          "base_uri": "https://localhost:8080/"
        },
        "id": "mWJZ1TuDlyuB",
        "outputId": "1d9aaf36-f915-4d26-eaaf-e89eed80b24e"
      },
      "source": [
        "listaDeDispositivosEsquematicos"
      ],
      "execution_count": 126,
      "outputs": [
        {
          "output_type": "execute_result",
          "data": {
            "text/plain": [
              "['Conectores',\n",
              " 'Bocinas',\n",
              " 'Potenciometros',\n",
              " 'Resistencias',\n",
              " 'Motores',\n",
              " 'Diodos',\n",
              " 'Transistores',\n",
              " 'PushButtons',\n",
              " 'LCD',\n",
              " 'Baterias',\n",
              " 'Circuitos Integrados',\n",
              " 'Fusibles',\n",
              " 'DipSwitches',\n",
              " 'Capacitores',\n",
              " 'Bobinas']"
            ]
          },
          "metadata": {
            "tags": []
          },
          "execution_count": 126
        }
      ]
    },
    {
      "cell_type": "code",
      "metadata": {
        "colab": {
          "base_uri": "https://localhost:8080/"
        },
        "id": "AzHTOnX2NSFp",
        "outputId": "bd7c61e1-bbf6-4c0d-b1ee-5814752f51f6"
      },
      "source": [
        "listaDeDispositivosComponentes\n"
      ],
      "execution_count": 127,
      "outputs": [
        {
          "output_type": "execute_result",
          "data": {
            "text/plain": [
              "['Ventiladores',\n",
              " 'Conectores',\n",
              " 'Bocinas',\n",
              " 'Potenciometros',\n",
              " 'Resistencias',\n",
              " 'Motores',\n",
              " 'Diodos',\n",
              " 'Transistores',\n",
              " 'PushButtons',\n",
              " 'Capacitores-Electroliticos',\n",
              " 'LED',\n",
              " 'LCD',\n",
              " 'Baterias',\n",
              " 'Capacitores-Ceramicos',\n",
              " 'Circuitos Integrados',\n",
              " 'Fusibles',\n",
              " 'DipSwitches',\n",
              " 'Bobinas']"
            ]
          },
          "metadata": {
            "tags": []
          },
          "execution_count": 127
        }
      ]
    },
    {
      "cell_type": "code",
      "metadata": {
        "colab": {
          "base_uri": "https://localhost:8080/",
          "height": 48
        },
        "id": "O48TurEWkoyL",
        "outputId": "cb20f47d-4c58-4f83-b88d-351802cddd43"
      },
      "source": [
        "imagen = Image.open(imagenes[0])\n",
        "imagen.convert('RGB')\n",
        "imagen"
      ],
      "execution_count": 128,
      "outputs": [
        {
          "output_type": "execute_result",
          "data": {
            "image/png": "[encoded data removed]",
            "text/plain": [
              "<PIL.PngImagePlugin.PngImageFile image mode=RGBA size=32x31 at 0x7FA96FC6EF90>"
            ]
          },
          "metadata": {
            "tags": []
          },
          "execution_count": 128
        }
      ]
    },
    {
      "cell_type": "code",
      "metadata": {
        "id": "tXF9_IHt0uFW"
      },
      "source": [
        "a,b=imagen.size\n",
        "\n",
        "if a!=b: #Si no coincide el ancho/largo\n",
        "  if a>b:\n",
        "    im = Image.new('RGB', (a, a), (255, 255, 255))\n",
        "    im.paste(imagen, (0,0))\n",
        "    imagen = im \n",
        "  else:\n",
        "    im = Image.new('RGB', (b, b), (255, 255, 255))\n",
        "    im.paste(imagen, (0,0))\n",
        "    imagen = im "
      ],
      "execution_count": 129,
      "outputs": []
    },
    {
      "cell_type": "code",
      "metadata": {
        "colab": {
          "base_uri": "https://localhost:8080/"
        },
        "id": "ClSfntB6V1f1",
        "outputId": "4910e3dc-5e73-41bb-ade3-1d70202c3b8d"
      },
      "source": [
        "imagen.size"
      ],
      "execution_count": 130,
      "outputs": [
        {
          "output_type": "execute_result",
          "data": {
            "text/plain": [
              "(32, 32)"
            ]
          },
          "metadata": {
            "tags": []
          },
          "execution_count": 130
        }
      ]
    },
    {
      "cell_type": "code",
      "metadata": {
        "colab": {
          "base_uri": "https://localhost:8080/",
          "height": 117
        },
        "id": "ah6YqLerI3ZO",
        "outputId": "ff6cb5f3-e512-48c7-8e56-aebb5a5f1fa4"
      },
      "source": [
        "imagen.resize((100,100))"
      ],
      "execution_count": 131,
      "outputs": [
        {
          "output_type": "execute_result",
          "data": {
            "image/png": "[encoded data removed]",
            "text/plain": [
              "<PIL.Image.Image image mode=RGB size=100x100 at 0x7FA96E2A4A50>"
            ]
          },
          "metadata": {
            "tags": []
          },
          "execution_count": 131
        }
      ]
    },
    {
      "cell_type": "code",
      "metadata": {
        "colab": {
          "base_uri": "https://localhost:8080/",
          "height": 392
        },
        "id": "1TU4UAcLkx9P",
        "outputId": "8a94596c-9d84-4701-872f-c6628ba7c6bd"
      },
      "source": [
        "imagen.resize((64,64))  #Escalar, 64 x 64 en ejemplo\n",
        "\n",
        "#Antes del resize realizar un fill de blanco :D\n",
        "\n",
        " #Ilustración de las 3 capas a usar\n",
        "imagen2 = np.array(imagen)\n",
        "\n",
        "fig1 = plt.figure(figsize=(6,6))\n",
        "plt.imshow(imagen2)"
      ],
      "execution_count": 132,
      "outputs": [
        {
          "output_type": "execute_result",
          "data": {
            "text/plain": [
              "<matplotlib.image.AxesImage at 0x7fa96e1c7ad0>"
            ]
          },
          "metadata": {
            "tags": []
          },
          "execution_count": 132
        },
        {
          "output_type": "display_data",
          "data": {
            "image/png": "[encoded data removed]",
            "text/plain": [
              "<Figure size 432x432 with 1 Axes>"
            ]
          },
          "metadata": {
            "tags": [],
            "needs_background": "light"
          }
        }
      ]
    },
    {
      "cell_type": "code",
      "metadata": {
        "colab": {
          "base_uri": "https://localhost:8080/"
        },
        "id": "6wozZHP2SVu2",
        "outputId": "ee0b4a1c-b017-4d2c-88e9-2a9f8adb73a2"
      },
      "source": [
        "#Limpieza del directorio por si hubo algo antes de preprocesar:\n",
        "try:\n",
        "  rmtree( dir +'DataPrep')\n",
        "except FileNotFoundError:\n",
        "  print('nada que borrar')\n",
        "\n",
        "# Bloque usado solo en el preprocesamiento  "
      ],
      "execution_count": 133,
      "outputs": [
        {
          "output_type": "stream",
          "text": [
            "nada que borrar\n"
          ],
          "name": "stdout"
        }
      ]
    },
    {
      "cell_type": "markdown",
      "metadata": {
        "id": "U92ZT8BERsIQ"
      },
      "source": [
        "#### Función de Carga, Preprocesado y Guardado de Datos\n"
      ]
    },
    {
      "cell_type": "code",
      "metadata": {
        "id": "M0Sn1F2ARusA"
      },
      "source": [
        "#función para preprocesar datos:\n",
        "def PreprocesarDatos(size,tipo,dispositivos):\n",
        "  \"\"\"\n",
        "  el tamaño deseado,\n",
        "  tipo ingresado\n",
        "  la lista de dispositivos a revisar (la lista de las clases es diferente!!!)\n",
        "  \"\"\"\n",
        "\n",
        "  #Este proceso se debe repetir para cada tipo\n",
        "\n",
        "  os.chdir(dir) # Carpeta superior \n",
        "  #Preparamos sitios de almacenamiento\n",
        "\n",
        "  try:\n",
        "    os.chdir( dir+'DataPrep/')  \n",
        "  except FileNotFoundError:\n",
        "    os.mkdir( dir+'DataPrep/')\n",
        "    os.chdir( dir+'DataPrep/')\n",
        "  \n",
        "  try:\n",
        "    os.chdir( dir+'DataPrep/'+tipo)  \n",
        "  except FileNotFoundError:\n",
        "    os.mkdir( dir+'DataPrep/'+tipo)\n",
        "    os.chdir( dir+'DataPrep/'+tipo)\n",
        "  \n",
        "  for dispositivo in dispositivos:\n",
        "    #Por cada tipo realizaremos el número de carpeta correspondiente\n",
        "    try:\n",
        "      os.chdir( dir+'DataPrep/'+tipo+'/'+dispositivo)  \n",
        "    except FileNotFoundError:\n",
        "      os.mkdir( dir+'DataPrep/'+tipo+'/'+dispositivo)\n",
        "      os.chdir( dir+'DataPrep/'+tipo+'/'+dispositivo)\n",
        "    #Con la carpeta destino creada nos movemos a la ubicación de las imagenes\n",
        "\n",
        "    os.chdir(dir+'Data/'+tipo+'/'+dispositivo) #Se supone existe\n",
        "    print('Actualmente en: ',tipo+', '+dispositivo)\n",
        "    \n",
        "    imagenes = os.listdir()\n",
        "  \n",
        "    #Acumuladores de datos procesados\n",
        "    x_v=[]\n",
        "    y_v=[]\n",
        "    for imagenName in imagenes:\n",
        "  \n",
        "      imagen = Image.open(imagenName)\n",
        "      imagen2 = imagen.convert('RGB') #Todo a RGB\n",
        "      \n",
        "      a,b=imagen2.size\n",
        "      if a!=b: #Si no coincide el ancho/largo\n",
        "        if a>b:\n",
        "          #nuevo fondo\n",
        "          im = Image.new('RGB', (a, a), (255, 255, 255)) \n",
        "          im.paste(imagen2, (0,0))\n",
        "        else:\n",
        "          #nuevo fondo\n",
        "          im = Image.new('RGB', (b, b), (255, 255, 255))\n",
        "          im.paste(imagen2, (0,0))\n",
        "      else:\n",
        "        im = imagen2 #Por si sí es cuadrada\n",
        "\n",
        "      im = im.resize((size,size))  #Escalar\n",
        "      \n",
        "      imagen3 = np.array(im)\n",
        "      imagen3 = imagen3/255 #Normalizado\n",
        "      x_v.append(imagen3) \n",
        "\n",
        "    y_v.append(dispositivo)\n",
        "    y_v=y_v*len(x_v) #Número de veces que se debe repetir el target\n",
        "    x_v=np.array(x_v)\n",
        "    y_v=np.array(y_v)\n",
        "  \n",
        "    #Esto se puede hacer con un with\n",
        "    os.chdir(dir +'DataPrep/'+tipo+'/'+dispositivo) \n",
        "    pickle.dump(x_v, open(dispositivo+\"Data\", 'wb'))\n",
        "    pickle.dump(y_v, open(dispositivo+\"Target\", 'wb'))\n",
        "    #Regresamos al directorio donde se encuentran el resto, mejorar con with\n",
        "\n",
        "\n"
      ],
      "execution_count": 134,
      "outputs": []
    },
    {
      "cell_type": "code",
      "metadata": {
        "id": "yHHmHcBvR5SB"
      },
      "source": [
        "#Implementación de la función anterior\n",
        "#PreprocesarDatos(64,\"Esquematicos\",listaDeDispositivosEsquematicos) #Preprocesa Esquematicos\n",
        "#PreprocesarDatos(64,\"Componentes\",listaDeDispositivosComponentes)  #Preprocesa Componentes\n"
      ],
      "execution_count": 135,
      "outputs": []
    },
    {
      "cell_type": "code",
      "metadata": {
        "id": "NGd4NfH-wm7c"
      },
      "source": [
        "#!zip -r file.zip /content/ProyectoCircuitos-ANN/DataPrep "
      ],
      "execution_count": 136,
      "outputs": []
    },
    {
      "cell_type": "code",
      "metadata": {
        "id": "oevIuZAlvok0"
      },
      "source": [
        "#Descarga del FOLDER con modificaciones\n",
        "#files.download(\"file.zip\") "
      ],
      "execution_count": 137,
      "outputs": []
    },
    {
      "cell_type": "code",
      "metadata": {
        "id": "nbQgPcZrJN-c"
      },
      "source": [
        "#Revisión rápida de los datos"
      ],
      "execution_count": 138,
      "outputs": []
    },
    {
      "cell_type": "code",
      "metadata": {
        "id": "_BOdf1YsJBJE"
      },
      "source": [
        "#os.chdir(dir)\n",
        "#r=pickle.load(open('/content/ProyectoCircuitos-ANN/DataPrep/Esquematicos/Baterias/BateriasData','rb'))"
      ],
      "execution_count": 139,
      "outputs": []
    },
    {
      "cell_type": "code",
      "metadata": {
        "id": "xS7jEG_3JVMD"
      },
      "source": [
        "#plt.figure()\n",
        "#plt.imshow(r[0])"
      ],
      "execution_count": 140,
      "outputs": []
    },
    {
      "cell_type": "markdown",
      "metadata": {
        "id": "zkIF_CmvRxr_"
      },
      "source": [
        "#### Función de Carga de datos Preprocesados"
      ]
    },
    {
      "cell_type": "code",
      "metadata": {
        "id": "UU0tZuyIR_eu"
      },
      "source": [
        "# dir+'DataPrep/'+tipo+'/'+dispositivo\n",
        "def CargadorDatos(tipo,dispositivos,direccion):\n",
        "  #Se elije el tipo y dispositivo a cargar en cada iteración\n",
        "  x_test =[]\n",
        "  x_train=[]\n",
        "  y_test =[]\n",
        "  y_train=[]\n",
        "  \n",
        "  #Moviendonos a la ubicación\n",
        "  for dispositivo in dispositivos:\n",
        "\n",
        "    os.chdir(direccion+'/'+tipo+'/'+dispositivo)\n",
        "    data = pickle.load(open(dispositivo+'Data','rb')) \n",
        "    #Split de entrenamiento aquí para evitar malas tendencias\n",
        "\n",
        "    x_train_v , x_test_v = train_test_split(data, test_size=0.20,shuffle=True)\n",
        "\n",
        "    x_train.extend( x_train_v )\n",
        "    \n",
        "    x_test.extend( x_test_v )\n",
        "\n",
        "    y_train.extend([str(dispositivo)]*len(x_train_v)*1 )\n",
        "    y_test.extend( [str(dispositivo)]*len(x_test_v)*1)\n",
        "  return np.array(x_train),np.array(x_test),np.array(y_train),np.array(y_test)"
      ],
      "execution_count": 141,
      "outputs": []
    },
    {
      "cell_type": "markdown",
      "metadata": {
        "id": "nfokfNBDqHPB"
      },
      "source": [
        "## Preparado para tensorboard"
      ]
    },
    {
      "cell_type": "code",
      "metadata": {
        "id": "utOYIA5PHhIQ"
      },
      "source": [
        "#Subimos a directorio principal para guardado aquí de los logs\n",
        "os.chdir(dir)"
      ],
      "execution_count": 142,
      "outputs": []
    },
    {
      "cell_type": "code",
      "metadata": {
        "colab": {
          "base_uri": "https://localhost:8080/",
          "height": 35
        },
        "id": "IBPkJsxVHlNx",
        "outputId": "18aeda21-28ec-41e6-f119-69dbfa67849a"
      },
      "source": [
        "os.getcwd()"
      ],
      "execution_count": 143,
      "outputs": [
        {
          "output_type": "execute_result",
          "data": {
            "application/vnd.google.colaboratory.intrinsic+json": {
              "type": "string"
            },
            "text/plain": [
              "'/content/ProyectoCircuitos-ANN'"
            ]
          },
          "metadata": {
            "tags": []
          },
          "execution_count": 143
        }
      ]
    },
    {
      "cell_type": "code",
      "metadata": {
        "id": "N-M_zVKqVJgI"
      },
      "source": [
        "rm -rf ./logs/"
      ],
      "execution_count": 144,
      "outputs": []
    },
    {
      "cell_type": "code",
      "metadata": {
        "id": "vBnosbE0Ests"
      },
      "source": [
        "current_time = datetime.datetime.now().strftime(\"%Y%m%d-%H%M%S\")\n",
        "#Directorios de guardado de la info:\n",
        "train_log_dir = 'logs/gradient_tape/'  + current_time + '/train'\n",
        "test_log_dir  = 'logs/gradient_tape/'  + current_time + '/test'\n",
        "\n",
        "#Escritores de la info:\n",
        "train_summary_writer = tf.summary.create_file_writer(train_log_dir)\n",
        "test_summary_writer  = tf.summary.create_file_writer(test_log_dir)\n"
      ],
      "execution_count": 145,
      "outputs": []
    },
    {
      "cell_type": "markdown",
      "metadata": {
        "id": "conHMyynb5vY"
      },
      "source": [
        "### Primer carga de datos\n",
        "Primero el problema de componentes:"
      ]
    },
    {
      "cell_type": "code",
      "metadata": {
        "id": "kwS2rZ4XSBxQ"
      },
      "source": [
        "#implementación de la función anterior\n",
        "# A elegir el tipo de carga\n",
        "\n",
        "#direccion = dir+'DataPrep32'\n",
        "direccion = dir+'DataPrep64'\n",
        "\n",
        "x_train,x_test,y_train,y_test = CargadorDatos('Componentes',listaDeDispositivosComponentes,direccion)\n",
        "#x_train,x_test,y_train,y_test = CargadorDatos('Esquematicos',listaDeDispositivosEsquematicos,direccion)"
      ],
      "execution_count": 146,
      "outputs": []
    },
    {
      "cell_type": "code",
      "metadata": {
        "id": "ajQqHxnQSFK4",
        "colab": {
          "base_uri": "https://localhost:8080/"
        },
        "outputId": "154c5c9b-ff50-453f-d23a-7a149b5883b5"
      },
      "source": [
        "#Forma de los datos\n",
        "x_train.shape,x_test.shape,y_train.shape,y_test.shape"
      ],
      "execution_count": 147,
      "outputs": [
        {
          "output_type": "execute_result",
          "data": {
            "text/plain": [
              "((821, 64, 64, 3), (210, 64, 64, 3), (821,), (210,))"
            ]
          },
          "metadata": {
            "tags": []
          },
          "execution_count": 147
        }
      ]
    },
    {
      "cell_type": "code",
      "metadata": {
        "colab": {
          "base_uri": "https://localhost:8080/",
          "height": 419
        },
        "id": "LxdwlBSwcCyY",
        "outputId": "0ac1c679-3e49-44db-8769-df0af1293b1d"
      },
      "source": [
        "#Input\n",
        "ex=x_train[100]\n",
        "\n",
        "fig2 = plt.figure(figsize=(6,10))\n",
        "ax   = fig2.add_subplot(1,3,1)\n",
        "ax.imshow(ex[:,:,0],cmap='gray')\n",
        "ax   = fig2.add_subplot(1,3,2)\n",
        "ax.imshow(ex[:,:,1],cmap='gray')\n",
        "ax   = fig2.add_subplot(1,3,3)\n",
        "ax.imshow(ex[:,:,2],cmap='gray')\n",
        "\n",
        "fig3 = plt.figure()\n",
        "plt.imshow(ex)"
      ],
      "execution_count": 148,
      "outputs": [
        {
          "output_type": "execute_result",
          "data": {
            "text/plain": [
              "<matplotlib.image.AxesImage at 0x7fa96fb8b290>"
            ]
          },
          "metadata": {
            "tags": []
          },
          "execution_count": 148
        },
        {
          "output_type": "display_data",
          "data": {
            "image/png": "[encoded data removed]",
            "text/plain": [
              "<Figure size 432x720 with 3 Axes>"
            ]
          },
          "metadata": {
            "tags": [],
            "needs_background": "light"
          }
        },
        {
          "output_type": "display_data",
          "data": {
            "image/png": "[encoded data removed]",
            "text/plain": [
              "<Figure size 432x288 with 1 Axes>"
            ]
          },
          "metadata": {
            "tags": [],
            "needs_background": "light"
          }
        }
      ]
    },
    {
      "cell_type": "code",
      "metadata": {
        "id": "J9t4WkyScg6p"
      },
      "source": [
        "#Aplicando one-hot y creando diccionario de traducción del mismo:\n",
        "\n",
        "onehot_encoderC = OneHotEncoder(sparse=False)\n",
        "\n",
        "y_train = y_train.reshape(len(y_train), 1)\n",
        "y_train_onehot = onehot_encoderC.fit_transform(y_train)\n",
        "\n",
        "\n",
        "y_test = y_test.reshape(len(y_test), 1)\n",
        "y_test_onehot = onehot_encoderC.fit_transform(y_test)"
      ],
      "execution_count": 149,
      "outputs": []
    },
    {
      "cell_type": "markdown",
      "metadata": {
        "id": "plCl3_R4eXrx"
      },
      "source": [
        "#### Shuffle para evitar aprender el orden de los datos"
      ]
    },
    {
      "cell_type": "code",
      "metadata": {
        "id": "zQ_iVym4eUFu"
      },
      "source": [
        "x_trainC, y_trainC, y_train_onehotC = shuffle(x_train, y_train, y_train_onehot, random_state=None)\n",
        "x_testC,  y_testC,  y_test_onehotC  = shuffle(x_test,  y_test,  y_test_onehot,  random_state=None)"
      ],
      "execution_count": 150,
      "outputs": []
    },
    {
      "cell_type": "markdown",
      "metadata": {
        "id": "oQIkSyp-CcN1"
      },
      "source": [
        "### Etapa 2: Diseño de las redes"
      ]
    },
    {
      "cell_type": "markdown",
      "metadata": {
        "id": "TNBSx89gDXqW"
      },
      "source": [
        "- Optimizador, y métricas a usar\n",
        "- Grafo computacional (train y test)\n",
        "- Entrenamiento\n",
        "- Implementado y pseudoevaluado\n",
        "- Muestra de ejemplos clasificados "
      ]
    },
    {
      "cell_type": "code",
      "metadata": {
        "id": "ChXTCF5OlDjp"
      },
      "source": [
        "class CNN_Model(object):\n",
        "  def __init__(self, clases ): \n",
        "      # Capas convolucionales\n",
        "\n",
        "    amp=0.001 #amplitud del rand\n",
        "\n",
        "    #3 convolucionales paralelas entre sí\n",
        "\n",
        "    self.h1LW_A = tf.Variable(amp*np.random.randn(9,9,3,8),name=\"hl1_Aweigths\",dtype=\"float32\")\n",
        "    self.h1LB_A = tf.Variable(amp*np.random.randn(8),name=\"hl1_Abias\",dtype=\"float32\")\n",
        "\n",
        "    self.h1LW_B = tf.Variable(amp*np.random.randn(2,7,3,8),name=\"hl1_Bweigths\",dtype=\"float32\")\n",
        "    self.h1LB_B = tf.Variable(amp*np.random.randn(8),name=\"hl1_Bbias\",dtype=\"float32\")\n",
        "\n",
        "    self.h1LW_C = tf.Variable(amp*np.random.randn(7,2,3,8),name=\"hl1_Cweigths\",dtype=\"float32\")\n",
        "    self.h1LB_C = tf.Variable(amp*np.random.randn(8),name=\"hl1_Cbias\",dtype=\"float32\")\n",
        "\n",
        "  \n",
        "        #MAX pooling (no tiene pesos)\n",
        "\n",
        "        #Convolución con 16 filtros\n",
        "    self.h2LW = tf.Variable(amp*np.random.randn(5,5,8*3,16),name=\"hl2weigths\",dtype=\"float32\")\n",
        "    self.h2LB = tf.Variable(amp*np.random.randn(16),name=\"hl2bias\",dtype=\"float32\")\n",
        "    \n",
        "\n",
        "        #MAX pooling (no tiene pesos)\n",
        "\n",
        "        #Flatten final\n",
        "    self.h3LW = tf.Variable(amp*np.random.randn(16*16*16,512),name=\"hl3weigths\",dtype=\"float32\")\n",
        "    self.h3LB = tf.Variable(amp*np.random.randn(512),name=\"hl3bias\",dtype=\"float32\")\n",
        "  \n",
        "    \n",
        "\n",
        "      #Capas completamente conectadas\n",
        "        #Primera reducción\n",
        "    self.outW = tf.Variable(amp*np.random.rand(512, clases),name=\"outweigths\",dtype=\"float32\")\n",
        "    self.outB = tf.Variable(amp*np.random.rand(clases),name=\"outbias\",dtype=\"float32\")\n",
        "    \n",
        "    #Para el grafo computacional, variables a entrenar:\n",
        "    self.trainable_variables =[self.h1LW_A,self.h1LB_A,\n",
        "                               self.h1LW_B,self.h1LB_B,\n",
        "                               self.h1LW_C,self.h1LB_C,\n",
        "                               self.h2LW,self.h2LB,\n",
        "                               self.h3LW,self.h3LB,\n",
        "                               self.outW,self.outB]\n",
        "\n",
        "  \n",
        "  def __call__(self,x,rate1=0,rate2=0):\n",
        "      x   = tf.cast(x, tf.float32) #Volvemos float32 porque TF explota sino (? aver)\n",
        "      img = tf.reshape(x, shape=[-1, 64, 64, 3])  #Reshape con: batch, ancho, alto, colores \n",
        "      # 64*64*3\n",
        "     \n",
        "      # Primer Convolucional \n",
        "      l1_A = tf.nn.conv2d(img, self.h1LW_A, strides=[1,1,1,1], padding='SAME' )  \n",
        "      #Salto entre batches, [espacial, espacial], filtro/color  \n",
        "    \n",
        "      l1_A = tf.add(l1_A, self.h1LB_A)\n",
        "      l1_A = tf.nn.relu(l1_A)\n",
        "      l1_A = tf.nn.max_pool(l1_A, ksize=2, strides=2, padding='SAME' )\n",
        "      l1_A = self.Normalizar(l1_A)\n",
        "      # 32 * 32 * 16\n",
        "      \n",
        "       #Segunda convolucional paralela\n",
        "      l1_B = tf.nn.conv2d(img, self.h1LW_B, strides=[1,1,1,1], padding='SAME' )  \n",
        "      #Salto entre batches, [espacial, espacial], filtro/color        \n",
        "      l1_B = tf.add(l1_B, self.h1LB_B)\n",
        "      l1_B = tf.nn.relu(l1_B)\n",
        "      l1_B = tf.nn.max_pool(l1_B, ksize=2, strides=2, padding='SAME' )\n",
        "      l1_B = self.Normalizar(l1_B)\n",
        "      # 32 * 32 * 16\n",
        "\n",
        "        #Tercera convolucional paralela\n",
        "      l1_C = tf.nn.conv2d(img, self.h1LW_C, strides=[1,1,1,1], padding='SAME' )  \n",
        "      #Salto entre batches, [espacial, espacial], filtro/color        \n",
        "      l1_C = tf.add(l1_C, self.h1LB_C)\n",
        "      l1_C = tf.nn.relu(l1_C)\n",
        "      l1_C = tf.nn.max_pool(l1_C, ksize=2, strides=2, padding='SAME' )\n",
        "      l1_C = self.Normalizar(l1_C)\n",
        "      \n",
        "      # 32 * 32 * 16\n",
        "\n",
        "\n",
        "      l1 = tf.concat([l1_A,l1_B,l1_C],3)\n",
        "      l1 = tf.nn.dropout(l1,rate1)  \n",
        "\n",
        "\n",
        "      #Concatenado de las tres paralelas 32*32*(16+16+16)\n",
        "      \n",
        "      \n",
        "      l2 = tf.nn.conv2d(l1,self.h2LW, strides=[1,1,1,1], padding='SAME')  \n",
        "      l2 = tf.add(l2, self.h2LB)\n",
        "      l2 = tf.nn.relu(l2)\n",
        "      l2 = tf.nn.max_pool(l2, ksize=2, strides=2, padding='SAME')\n",
        "      l2 = self.Normalizar(l2)\n",
        "      l2 = tf.nn.dropout(l2,rate1)  \n",
        "      # 16 * 16 * 32\n",
        "      \n",
        "      #Capas completamente conectadas\n",
        "      l3 = tf.reshape(l2,[-1, 16*16*16])\n",
        "      l3 = tf.add(tf.matmul(l3,self.h3LW),self.h3LB)\n",
        "      l3 = tf.nn.relu(l3)\n",
        "      \n",
        "      l3 = self.Normalizar(l3)\n",
        "\n",
        "      l3 = tf.nn.dropout(l3,rate2)    \n",
        "   \n",
        "      \n",
        "      output = tf.add( tf.matmul(l3,self.outW) , self.outB)\n",
        "      #output = output/tf.reduce_max(output)\n",
        "\n",
        "\n",
        "      return output \n",
        "\n",
        "  \n",
        "  def Normalizar(self, layerIn):\n",
        "      f = tf.reduce_max(abs(layerIn))\n",
        "      m = tf.reduce_mean(layerIn)\n",
        "      s = tf.math.reduce_std(layerIn)\n",
        "      return (layerIn-m)/(s*f)         "
      ],
      "execution_count": 151,
      "outputs": []
    },
    {
      "cell_type": "markdown",
      "metadata": {
        "id": "PM-oRtjDLj1q"
      },
      "source": [
        "#### Declarado de la arquitectura 1: Componentes"
      ]
    },
    {
      "cell_type": "code",
      "metadata": {
        "colab": {
          "base_uri": "https://localhost:8080/"
        },
        "id": "Oy6tUH-SCfp6",
        "outputId": "d1d1f22c-dee3-4d01-f5a1-6da5f4a910c7"
      },
      "source": [
        "#Prueba de propagación hacía adelante e instancia de ambas redes\n",
        "CNN_Componentes = CNN_Model(clases = len(listaDeDispositivosComponentes))\n",
        "\n",
        "CNN_Componentes(x_train[10])\n",
        " "
      ],
      "execution_count": 152,
      "outputs": [
        {
          "output_type": "execute_result",
          "data": {
            "text/plain": [
              "<tf.Tensor: shape=(1, 18), dtype=float32, numpy=\n",
              "array([[ 0.02526895, -0.02950868,  0.03045067, -0.0704179 , -0.0750424 ,\n",
              "        -0.06230906, -0.02533766,  0.2592907 , -0.22642955,  0.06050433,\n",
              "         0.10462012, -0.32609797,  0.14221935, -0.10989872, -0.19093658,\n",
              "         0.21002948,  0.16854823, -0.08543865]], dtype=float32)>"
            ]
          },
          "metadata": {
            "tags": []
          },
          "execution_count": 152
        }
      ]
    },
    {
      "cell_type": "code",
      "metadata": {
        "id": "C8E12itunwaP"
      },
      "source": [
        "\n",
        "#Metricas a usar\n",
        "train_loss = tf.keras.metrics.Mean(name='train_loss')\n",
        "train_accuracy = tf.keras.metrics.CategoricalAccuracy(name='train_accuracy')\n",
        "\n",
        "test_loss = tf.keras.metrics.Mean(name='test_loss')\n",
        "test_accuracy = tf.keras.metrics.CategoricalAccuracy(name='test_accuracy')"
      ],
      "execution_count": 153,
      "outputs": []
    },
    {
      "cell_type": "code",
      "metadata": {
        "id": "89DpBIWBuDGo"
      },
      "source": [
        "  ############## Declarado del optimizador\n",
        "  optimizador = tf.compat.v1.train.AdamOptimizer( learning_rate=0.05,epsilon= 1e-10)\n",
        "  ##############    \n",
        "  "
      ],
      "execution_count": 154,
      "outputs": []
    },
    {
      "cell_type": "code",
      "metadata": {
        "id": "Hgyy-2T8uaRG"
      },
      "source": [
        "#@tf.function\n",
        "def TrainingStep(model, tdata, etiquetas,rate1,rate2,lamb):  \n",
        "  with tf.GradientTape() as tape:\n",
        "\n",
        "    prediction = model(tdata,rate1,rate2)\n",
        "    \n",
        "    loss = tf.reduce_mean(tf.nn.softmax_cross_entropy_with_logits(etiquetas,prediction))\n",
        "    # tf.reduce_sum([ tf.reduce_sum(CNN1.trainable_variables[i]**2) for i in range(len(CNN1.trainable_variables))])\n",
        "    loss += lamb*tf.reduce_sum([ tf.reduce_sum(model.trainable_variables[i]**2) for i in range(len(model.trainable_variables))])\n",
        "\n",
        "  gradients = tape.gradient(loss, model.trainable_variables)  #Con que sacar gradiente\n",
        "  capped_grad_and_vars = [(grad,model.trainable_variables[index]) for index,grad in enumerate(gradients)] #Elementos a modificar\n",
        "  optimizador.apply_gradients(capped_grad_and_vars) #Modificar\n",
        "  \n",
        "  train_loss(loss)\n",
        "  train_accuracy(etiquetas, prediction)\n"
      ],
      "execution_count": 155,
      "outputs": []
    },
    {
      "cell_type": "code",
      "metadata": {
        "id": "DUOm-9pqubvl"
      },
      "source": [
        "#@tf.function\n",
        "def TestStep(model,tdata, etiquetas,lamb):\n",
        "  predictions = model(tdata)\n",
        "\n",
        "  t_loss =  tf.reduce_mean(tf.nn.softmax_cross_entropy_with_logits(etiquetas, predictions))\n",
        "  t_loss += lamb*tf.reduce_sum([ tf.reduce_sum(model.trainable_variables[i]**2) for i in range(len(model.trainable_variables))])\n",
        "  \n",
        "  test_loss(t_loss)\n",
        "  test_accuracy(etiquetas, predictions)"
      ],
      "execution_count": 156,
      "outputs": []
    },
    {
      "cell_type": "code",
      "metadata": {
        "id": "-PF7yyY-ufUZ"
      },
      "source": [
        "\n",
        "def fitting(model,train_x,train_y,test_x,test_y,\n",
        "            epochs,batchSize,\n",
        "            rate1,rate2,\n",
        "            lamb):\n",
        "\n",
        "\n",
        "  #Mientras el valor de la epoca actual sea menor que la cantidad total de datos:\n",
        "  for epoch in range(epochs):\n",
        "    i=0\n",
        "    \n",
        "    #Bucle del training step\n",
        "      #agregando suffle, diferentes batches cada vez\n",
        "    train_x,train_y = shuffle(train_x,train_y, random_state=None)\n",
        "    while i<len(train_x):\n",
        "      start = i\n",
        "\n",
        "      if (i+batchSize)<len(train_x):\n",
        "        end = i+batchSize  \n",
        "      else:\n",
        "        end = len(train_x)\n",
        "      batch_x = train_x[start:end]\n",
        "      batch_y = train_y[start:end]\n",
        "      \n",
        "      TrainingStep( model, batch_x, batch_y, rate1,rate2,lamb)\n",
        "      \n",
        "      #Guardado\n",
        "      with train_summary_writer.as_default():\n",
        "        tf.summary.scalar('loss', train_loss.result(), step=epoch)\n",
        "        tf.summary.scalar('accuracy', train_accuracy.result(), step=epoch)\n",
        "\n",
        "      i+=batchSize\n",
        "\n",
        "    TestStep( model,test_x,test_y,lamb )\n",
        "\n",
        "    #Guardado \n",
        "    with test_summary_writer.as_default():\n",
        "      tf.summary.scalar('loss', test_loss.result(), step=epoch)\n",
        "      tf.summary.scalar('accuracy', test_accuracy.result(), step=epoch)\n",
        "      \n",
        "\n",
        "    #Presentación de resultados\n",
        "    template = 'Epoch {0}, Perdida: {1:.3f}, Exactitud: {2:.3f}, Perdida de prueba: {3:.3f}, Exactitud de prueba: {4:.3f}'\n",
        "    if (epoch+1)%5==0:\n",
        "      print(template.format(epoch+1,\n",
        "                        train_loss.result().numpy(),\n",
        "                        train_accuracy.result().numpy()*100,\n",
        "                        test_loss.result().numpy(),\n",
        "                        test_accuracy.result().numpy()*100    )   )\n",
        "    \n",
        "    #Early stopping\n",
        "    if( train_accuracy.result().numpy()>0.95 and test_accuracy.result().numpy()>0.70 ):\n",
        "      print('stop')\n",
        "      break;\n",
        "      \n",
        "    train_loss.reset_states()\n",
        "    train_accuracy.reset_states()\n",
        "    test_loss.reset_states()\n",
        "    test_accuracy.reset_states()\n",
        "\n",
        "    \n",
        "    \n",
        "      "
      ],
      "execution_count": 157,
      "outputs": []
    },
    {
      "cell_type": "code",
      "metadata": {
        "colab": {
          "base_uri": "https://localhost:8080/"
        },
        "id": "T7m_XQpHiFs1",
        "outputId": "8ce10de7-ec6d-428c-9f83-e36b014add0e"
      },
      "source": [
        "#Detalles de variables a entrenar:\n",
        "for tensor in CNN_Componentes.trainable_variables:\n",
        "  print(tensor.shape,   np.sum (  tensor.value()  )  , np.max(tensor.value()) , np.min(tensor.value() )) \n",
        "\n"
      ],
      "execution_count": 158,
      "outputs": [
        {
          "output_type": "stream",
          "text": [
            "(9, 9, 3, 8) 0.02673709 0.0030575588 -0.003357294\n",
            "(8,) -0.0009245549 0.0006291505 -0.0010882489\n",
            "(2, 7, 3, 8) 0.03179232 0.0032243482 -0.0029794874\n",
            "(8,) -0.00465749 0.00021625646 -0.0015929047\n",
            "(7, 2, 3, 8) -0.013690019 0.0040855436 -0.002715928\n",
            "(8,) 0.003372232 0.0011571328 -0.0006913799\n",
            "(5, 5, 24, 16) -0.1141086 0.004072335 -0.003516961\n",
            "(16,) -0.009298004 0.00091013004 -0.0033853822\n",
            "(4096, 512) -2.2118144 0.0049237083 -0.004987355\n",
            "(512,) 0.030133085 0.0027156516 -0.0028262\n",
            "(512, 18) 4.6006455 0.0009999942 1.0194826e-07\n",
            "(18,) 0.010636581 0.0009989562 0.000102794605\n"
          ],
          "name": "stdout"
        }
      ]
    },
    {
      "cell_type": "markdown",
      "metadata": {
        "id": "n5tWyO5AyDDE"
      },
      "source": [
        "## Carga de modelos pre-entrenados \n",
        "La visualización de resultados utiliza estos modelos, \\\n",
        "para revisar los modelos que se entrenan debe cambiarse los nombres en cuestión."
      ]
    },
    {
      "cell_type": "code",
      "metadata": {
        "id": "bo5kDO49x_XH"
      },
      "source": [
        "os.chdir(dir) #Subimos a directorio principal para cargar de aquí el modelo\n",
        "CNN_C = pickle.load(open('CNN_Componentes_Modelo_3', 'rb'))"
      ],
      "execution_count": 159,
      "outputs": []
    },
    {
      "cell_type": "markdown",
      "metadata": {
        "id": "ldestuW_PNKd"
      },
      "source": [
        "#### Entrenamiento 1"
      ]
    },
    {
      "cell_type": "code",
      "metadata": {
        "colab": {
          "base_uri": "https://localhost:8080/"
        },
        "id": "0g1EEpJIuqZO",
        "outputId": "b40bcb65-5e89-4883-8faf-c9cfc57fe55e"
      },
      "source": [
        "fitting( CNN_Componentes,x_trainC,y_train_onehotC, x_testC,y_test_onehotC,\n",
        "        epochs= 200, batchSize = 16,\n",
        "        rate1 = 0.5, rate2=0.4,\n",
        "        lamb=1e-6)\n",
        "# Todos los dispositivos, batchSize: 16, 50 epochs.\n",
        "#    Drop 1 , Drop 2         Train/Test\n",
        "#       0       0             99/55\n",
        "#       0.5     0             95/61\n",
        "#       0.75    0             75/55 --> 100 epochs:89/59 se pasó\n",
        "#       0.5     0.5           90/63 --> 100  95/65  --> 200   94/67\n",
        "#       0.6     0.5           90/65\n",
        "    "
      ],
      "execution_count": null,
      "outputs": [
        {
          "output_type": "stream",
          "text": [
            "Epoch 5, Perdida: 2.745, Exactitud: 22.290, Perdida de prueba: 2.754, Exactitud de prueba: 17.619\n",
            "Epoch 10, Perdida: 2.503, Exactitud: 30.694, Perdida de prueba: 2.809, Exactitud de prueba: 24.286\n",
            "Epoch 15, Perdida: 2.384, Exactitud: 35.688, Perdida de prueba: 2.746, Exactitud de prueba: 24.286\n",
            "Epoch 20, Perdida: 2.252, Exactitud: 41.413, Perdida de prueba: 2.566, Exactitud de prueba: 36.667\n",
            "Epoch 25, Perdida: 1.985, Exactitud: 54.446, Perdida de prueba: 2.612, Exactitud de prueba: 38.571\n",
            "Epoch 30, Perdida: 1.827, Exactitud: 63.825, Perdida de prueba: 2.653, Exactitud de prueba: 40.476\n",
            "Epoch 35, Perdida: 1.770, Exactitud: 67.722, Perdida de prueba: 2.677, Exactitud de prueba: 46.190\n",
            "Epoch 40, Perdida: 1.588, Exactitud: 75.396, Perdida de prueba: 2.716, Exactitud de prueba: 43.333\n",
            "Epoch 45, Perdida: 1.549, Exactitud: 79.659, Perdida de prueba: 2.745, Exactitud de prueba: 50.476\n",
            "Epoch 50, Perdida: 1.444, Exactitud: 84.896, Perdida de prueba: 2.813, Exactitud de prueba: 44.762\n",
            "Epoch 55, Perdida: 1.334, Exactitud: 86.358, Perdida de prueba: 2.894, Exactitud de prueba: 48.095\n",
            "Epoch 60, Perdida: 1.501, Exactitud: 85.384, Perdida de prueba: 3.370, Exactitud de prueba: 45.714\n",
            "Epoch 65, Perdida: 1.327, Exactitud: 91.108, Perdida de prueba: 3.065, Exactitud de prueba: 48.571\n",
            "Epoch 70, Perdida: 1.347, Exactitud: 90.987, Perdida de prueba: 3.176, Exactitud de prueba: 47.619\n",
            "Epoch 75, Perdida: 1.442, Exactitud: 89.525, Perdida de prueba: 3.255, Exactitud de prueba: 47.143\n",
            "Epoch 80, Perdida: 1.395, Exactitud: 91.230, Perdida de prueba: 3.577, Exactitud de prueba: 44.286\n",
            "Epoch 85, Perdida: 1.432, Exactitud: 91.961, Perdida de prueba: 3.127, Exactitud de prueba: 48.095\n",
            "Epoch 90, Perdida: 1.438, Exactitud: 93.301, Perdida de prueba: 3.100, Exactitud de prueba: 48.571\n",
            "Epoch 95, Perdida: 1.470, Exactitud: 91.474, Perdida de prueba: 3.492, Exactitud de prueba: 45.238\n",
            "Epoch 100, Perdida: 1.538, Exactitud: 93.057, Perdida de prueba: 3.324, Exactitud de prueba: 46.667\n",
            "Epoch 105, Perdida: 1.663, Exactitud: 91.230, Perdida de prueba: 3.341, Exactitud de prueba: 50.952\n",
            "Epoch 110, Perdida: 1.594, Exactitud: 92.814, Perdida de prueba: 3.608, Exactitud de prueba: 49.524\n",
            "Epoch 115, Perdida: 1.789, Exactitud: 90.865, Perdida de prueba: 3.657, Exactitud de prueba: 46.190\n",
            "Epoch 120, Perdida: 1.809, Exactitud: 92.570, Perdida de prueba: 3.974, Exactitud de prueba: 44.286\n",
            "Epoch 125, Perdida: 1.830, Exactitud: 91.108, Perdida de prueba: 3.539, Exactitud de prueba: 46.667\n",
            "Epoch 130, Perdida: 1.908, Exactitud: 91.352, Perdida de prueba: 3.667, Exactitud de prueba: 44.286\n",
            "Epoch 135, Perdida: 1.977, Exactitud: 92.083, Perdida de prueba: 3.789, Exactitud de prueba: 46.190\n",
            "Epoch 140, Perdida: 1.987, Exactitud: 91.961, Perdida de prueba: 3.690, Exactitud de prueba: 42.857\n",
            "Epoch 145, Perdida: 2.030, Exactitud: 90.865, Perdida de prueba: 3.620, Exactitud de prueba: 45.714\n",
            "Epoch 150, Perdida: 1.952, Exactitud: 93.301, Perdida de prueba: 3.623, Exactitud de prueba: 47.619\n",
            "Epoch 155, Perdida: 2.027, Exactitud: 93.666, Perdida de prueba: 4.220, Exactitud de prueba: 46.190\n",
            "Epoch 160, Perdida: 1.929, Exactitud: 94.397, Perdida de prueba: 3.855, Exactitud de prueba: 47.619\n",
            "Epoch 165, Perdida: 2.180, Exactitud: 89.647, Perdida de prueba: 4.243, Exactitud de prueba: 42.381\n",
            "Epoch 170, Perdida: 2.118, Exactitud: 91.839, Perdida de prueba: 4.321, Exactitud de prueba: 40.000\n",
            "Epoch 175, Perdida: 1.980, Exactitud: 92.448, Perdida de prueba: 4.419, Exactitud de prueba: 44.286\n",
            "Epoch 180, Perdida: 2.097, Exactitud: 94.519, Perdida de prueba: 4.442, Exactitud de prueba: 44.286\n",
            "Epoch 185, Perdida: 2.279, Exactitud: 92.326, Perdida de prueba: 4.160, Exactitud de prueba: 44.762\n",
            "Epoch 190, Perdida: 2.076, Exactitud: 93.910, Perdida de prueba: 4.203, Exactitud de prueba: 42.381\n",
            "Epoch 195, Perdida: 2.134, Exactitud: 93.788, Perdida de prueba: 4.671, Exactitud de prueba: 43.810\n",
            "Epoch 200, Perdida: 2.051, Exactitud: 93.544, Perdida de prueba: 4.088, Exactitud de prueba: 49.048\n"
          ],
          "name": "stdout"
        }
      ]
    },
    {
      "cell_type": "code",
      "metadata": {
        "id": "vedCEwB31FBj",
        "colab": {
          "base_uri": "https://localhost:8080/"
        },
        "outputId": "41902d59-2e7d-4114-e0e3-00da2827704b"
      },
      "source": [
        "#Densidad de parametros/respecto el espacio\n",
        "total = 255**3*64**2\n",
        "param= 0\n",
        "for tensor in CNN_C.trainable_variables:\n",
        "  param = param +np.size(tensor)\n",
        "param/total "
      ],
      "execution_count": 160,
      "outputs": [
        {
          "output_type": "execute_result",
          "data": {
            "text/plain": [
              "3.120197100851105e-05"
            ]
          },
          "metadata": {
            "tags": []
          },
          "execution_count": 160
        }
      ]
    },
    {
      "cell_type": "markdown",
      "metadata": {
        "id": "LKmw3AStEaHw"
      },
      "source": [
        "#### Ejemplo de evaluación modelo 1"
      ]
    },
    {
      "cell_type": "code",
      "metadata": {
        "id": "pWUu5zw5gQw2",
        "colab": {
          "base_uri": "https://localhost:8080/",
          "height": 823
        },
        "outputId": "82ffec1f-f7f5-45e1-d8fc-2227a2171c3d"
      },
      "source": [
        "#Predicción sobre todo el dataset\n",
        "dispositivosC = onehot_encoderC.categories_[0]\n",
        "\n",
        "fig3 = plt.figure(figsize=(14,14))\n",
        "XC=np.concatenate([x_testC,x_trainC])\n",
        "YC=np.concatenate([y_test_onehotC,y_train_onehotC])\n",
        "\n",
        "#Nueve ejemplos \n",
        "for i in range(3):\n",
        "  for j in range (3):\n",
        "    value = np.random.randint(0,len(XC))\n",
        "    ejemplo = XC[value]\n",
        "    v       = np.array( CNN_C(ejemplo) )\n",
        "    d       = np.sort(v)[0] #Ordenamiento, los últimos son los más probables de pertenecer\n",
        "    \n",
        "    prediccion  = np.argmax(d[-1]==v)\n",
        "    verdadero   = np.argmax(YC[value])\n",
        "\n",
        "    ax   = fig3.add_subplot(3,3,i*3+(j+1))\n",
        "    ax.imshow(ejemplo)\n",
        "    ax.axis('off')\n",
        "    label='True:'+ str(dispositivosC[verdadero]) + \\\n",
        "     '\\n Predic:'+ str(dispositivosC[prediccion]) \n",
        "    ax.set_title(label )\n",
        "    \n",
        "    \n"
      ],
      "execution_count": 185,
      "outputs": [
        {
          "output_type": "display_data",
          "data": {
            "image/png": "[encoded data removed]",
            "text/plain": [
              "<Figure size 1008x1008 with 9 Axes>"
            ]
          },
          "metadata": {
            "tags": [],
            "needs_background": "light"
          }
        }
      ]
    },
    {
      "cell_type": "markdown",
      "metadata": {
        "id": "23UXTWfNVuDB"
      },
      "source": [
        "#### Matriz de confusión"
      ]
    },
    {
      "cell_type": "code",
      "metadata": {
        "id": "Cz6wd1v-fR_8"
      },
      "source": [
        "#Matriz de confusión\n",
        "y_test_pred = np.argmax( CNN_C(XC), axis=1)\n",
        "\n",
        "y_test_true  = np.argmax(YC, axis=1)"
      ],
      "execution_count": 186,
      "outputs": []
    },
    {
      "cell_type": "code",
      "metadata": {
        "id": "s8q_TyUMigAO"
      },
      "source": [
        "confusionM = confusion_matrix(y_test_true, y_test_pred)\n"
      ],
      "execution_count": 187,
      "outputs": []
    },
    {
      "cell_type": "code",
      "metadata": {
        "id": "j-ze0Z4Uf9QL",
        "colab": {
          "base_uri": "https://localhost:8080/",
          "height": 580
        },
        "outputId": "9836f860-f1d9-4f0d-801b-5fce6b3453c0"
      },
      "source": [
        "\n",
        "fig, ax = plt.subplots(figsize=(10,10))\n",
        "\n",
        "im = ax.imshow(confusionM , cmap='hot')\n",
        "\n",
        "ax.set_xticks([])\n",
        "ax.set_yticks([])\n",
        "\n",
        "cbar = ax.figure.colorbar(im, ax=ax)\n",
        "cbar.ax.set_ylabel('similitud', rotation=-90, va=\"bottom\")\n",
        "\n",
        "plt.show()"
      ],
      "execution_count": 188,
      "outputs": [
        {
          "output_type": "display_data",
          "data": {
            "image/png": "[encoded data removed]",
            "text/plain": [
              "<Figure size 720x720 with 2 Axes>"
            ]
          },
          "metadata": {
            "tags": [],
            "needs_background": "light"
          }
        }
      ]
    },
    {
      "cell_type": "markdown",
      "metadata": {
        "id": "eevefsSRPgXA"
      },
      "source": [
        "### Segunda carga de datos"
      ]
    },
    {
      "cell_type": "code",
      "metadata": {
        "id": "LcwkxleSPzHf"
      },
      "source": [
        "#implementación de la función anterior\n",
        "# A elegir el tipo de carga\n",
        "\n",
        "#direccion = dir+'DataPrep32'\n",
        "direccion = dir+'DataPrep64'\n",
        "\n",
        "x_train,x_test,y_train,y_test = CargadorDatos('Esquematicos',listaDeDispositivosEsquematicos,direccion)"
      ],
      "execution_count": 165,
      "outputs": []
    },
    {
      "cell_type": "code",
      "metadata": {
        "colab": {
          "base_uri": "https://localhost:8080/"
        },
        "id": "y9CFo4TQPzHg",
        "outputId": "facf2734-7e62-4a46-d363-14ac42530c95"
      },
      "source": [
        "#Forma de los datos\n",
        "x_train.shape,x_test.shape,y_train.shape,y_test.shape"
      ],
      "execution_count": 166,
      "outputs": [
        {
          "output_type": "execute_result",
          "data": {
            "text/plain": [
              "((270, 64, 64, 3), (74, 64, 64, 3), (270,), (74,))"
            ]
          },
          "metadata": {
            "tags": []
          },
          "execution_count": 166
        }
      ]
    },
    {
      "cell_type": "code",
      "metadata": {
        "colab": {
          "base_uri": "https://localhost:8080/",
          "height": 419
        },
        "id": "Z73pL0sPPzHh",
        "outputId": "c4baeb56-c964-499a-8c03-37d1738f52a0"
      },
      "source": [
        "#Input\n",
        "ex=x_train[100]\n",
        "\n",
        "fig2 = plt.figure(figsize=(6,10))\n",
        "ax   = fig2.add_subplot(1,3,1)\n",
        "ax.imshow(ex[:,:,0],cmap='gray')\n",
        "ax   = fig2.add_subplot(1,3,2)\n",
        "ax.imshow(ex[:,:,1],cmap='gray')\n",
        "ax   = fig2.add_subplot(1,3,3)\n",
        "ax.imshow(ex[:,:,2],cmap='gray')\n",
        "\n",
        "fig3 = plt.figure()\n",
        "plt.imshow(ex)"
      ],
      "execution_count": 167,
      "outputs": [
        {
          "output_type": "execute_result",
          "data": {
            "text/plain": [
              "<matplotlib.image.AxesImage at 0x7fa96c2c1210>"
            ]
          },
          "metadata": {
            "tags": []
          },
          "execution_count": 167
        },
        {
          "output_type": "display_data",
          "data": {
            "image/png": "[encoded data removed]",
            "text/plain": [
              "<Figure size 432x720 with 3 Axes>"
            ]
          },
          "metadata": {
            "tags": [],
            "needs_background": "light"
          }
        },
        {
          "output_type": "display_data",
          "data": {
            "image/png": "[encoded data removed]",
            "text/plain": [
              "<Figure size 432x288 with 1 Axes>"
            ]
          },
          "metadata": {
            "tags": [],
            "needs_background": "light"
          }
        }
      ]
    },
    {
      "cell_type": "code",
      "metadata": {
        "id": "xRLWCh8iPzHh"
      },
      "source": [
        "#Aplicando one-hot y creando diccionario de traducción del mismo:\n",
        "\n",
        "onehot_encoderE = OneHotEncoder(sparse=False)\n",
        "\n",
        "y_train = y_train.reshape(len(y_train), 1)\n",
        "y_train_onehot = onehot_encoderE.fit_transform(y_train)\n",
        "\n",
        "\n",
        "y_test = y_test.reshape(len(y_test), 1)\n",
        "y_test_onehot = onehot_encoderE.fit_transform(y_test)"
      ],
      "execution_count": 168,
      "outputs": []
    },
    {
      "cell_type": "markdown",
      "metadata": {
        "id": "x4F9qjFqPzHi"
      },
      "source": [
        "#### Shuffle para evitar aprender el orden de los datos"
      ]
    },
    {
      "cell_type": "code",
      "metadata": {
        "id": "EsPvq24SPzHi"
      },
      "source": [
        "x_trainE, y_trainE, y_train_onehotE = shuffle(x_train, y_train, y_train_onehot, random_state=None)\n",
        "x_testE,  y_testE,  y_test_onehotE  = shuffle(x_test,  y_test,  y_test_onehot,  random_state=None)"
      ],
      "execution_count": 169,
      "outputs": []
    },
    {
      "cell_type": "markdown",
      "metadata": {
        "id": "hcyl1TfyNjwS"
      },
      "source": [
        "#### Declarado de la arquitectura 2:\n",
        "Esquematicos"
      ]
    },
    {
      "cell_type": "code",
      "metadata": {
        "id": "WHKpKMxGUh1J"
      },
      "source": [
        "class CNN_Model2(object):\n",
        "  def __init__(self, clases ): \n",
        "      # Capas convolucionales\n",
        "\n",
        "    amp=0.001 #amplitud del rand\n",
        "\n",
        "    #3 convolucionales paralelas entre sí\n",
        "\n",
        "    self.h1LW_A = tf.Variable(amp*np.random.randn(3,3,3,8),name=\"hl1_Aweigths\",dtype=\"float32\")\n",
        "    self.h1LB_A = tf.Variable(amp*np.random.randn(8),name=\"hl1_Abias\",dtype=\"float32\")\n",
        "\n",
        "    self.h1LW_B = tf.Variable(amp*np.random.randn(1,5,3,8),name=\"hl1_Bweigths\",dtype=\"float32\")\n",
        "    self.h1LB_B = tf.Variable(amp*np.random.randn(8),name=\"hl1_Bbias\",dtype=\"float32\")\n",
        "\n",
        "    self.h1LW_C = tf.Variable(amp*np.random.randn(5,1,3,8),name=\"hl1_Cweigths\",dtype=\"float32\")\n",
        "    self.h1LB_C = tf.Variable(amp*np.random.randn(8),name=\"hl1_Cbias\",dtype=\"float32\")\n",
        "\n",
        "  \n",
        "        #MAX pooling (no tiene pesos)\n",
        "\n",
        "        #Convolución con 16 filtros\n",
        "    self.h2LW = tf.Variable(amp*np.random.randn(3,3,8*3,16),name=\"hl2weigths\",dtype=\"float32\")\n",
        "    self.h2LB = tf.Variable(amp*np.random.randn(16),name=\"hl2bias\",dtype=\"float32\")\n",
        "    \n",
        "\n",
        "        #MAX pooling (no tiene pesos)\n",
        "\n",
        "        #Flatten final\n",
        "    self.h3LW = tf.Variable(amp*np.random.randn(16*16*16,512),name=\"hl3weigths\",dtype=\"float32\")\n",
        "    self.h3LB = tf.Variable(amp*np.random.randn(512),name=\"hl3bias\",dtype=\"float32\")\n",
        "  \n",
        "    \n",
        "\n",
        "      #Capas completamente conectadas\n",
        "        #Primera reducción\n",
        "    self.outW = tf.Variable(amp*np.random.rand(512, clases),name=\"outweigths\",dtype=\"float32\")\n",
        "    self.outB = tf.Variable(amp*np.random.rand(clases),name=\"outbias\",dtype=\"float32\")\n",
        "    \n",
        "    #Para el grafo computacional, variables a entrenar:\n",
        "    self.trainable_variables =[self.h1LW_A,self.h1LB_A,\n",
        "                               self.h1LW_B,self.h1LB_B,\n",
        "                               self.h1LW_C,self.h1LB_C,\n",
        "                               self.h2LW,self.h2LB,\n",
        "                               self.h3LW,self.h3LB,\n",
        "                               self.outW,self.outB]\n",
        "\n",
        "  \n",
        "  def __call__(self,x,rate1=0,rate2=0):\n",
        "      x   = tf.cast(x, tf.float32) #Volvemos float32 porque TF explota sino (? aver)\n",
        "      img = tf.reshape(x, shape=[-1, 64, 64, 3])  #Reshape con: batch, ancho, alto, colores \n",
        "      # 64*64*3\n",
        "     \n",
        "      # Primer Convolucional \n",
        "      l1_A = tf.nn.conv2d(img, self.h1LW_A, strides=[1,1,1,1], padding='SAME' )  \n",
        "      #Salto entre batches, [espacial, espacial], filtro/color  \n",
        "    \n",
        "      l1_A = tf.add(l1_A, self.h1LB_A)\n",
        "      l1_A = tf.nn.relu(l1_A)\n",
        "      l1_A = tf.nn.max_pool(l1_A, ksize=2, strides=2, padding='SAME' )\n",
        "      l1_A = self.Normalizar(l1_A)\n",
        "      # 32 * 32 * 16\n",
        "      \n",
        "       #Segunda convolucional paralela\n",
        "      l1_B = tf.nn.conv2d(img, self.h1LW_B, strides=[1,1,1,1], padding='SAME' )  \n",
        "      #Salto entre batches, [espacial, espacial], filtro/color        \n",
        "      l1_B = tf.add(l1_B, self.h1LB_B)\n",
        "      l1_B = tf.nn.relu(l1_B)\n",
        "      l1_B = tf.nn.max_pool(l1_B, ksize=2, strides=2, padding='SAME' )\n",
        "      l1_B = self.Normalizar(l1_B)\n",
        "      # 32 * 32 * 16\n",
        "\n",
        "        #Tercera convolucional paralela\n",
        "      l1_C = tf.nn.conv2d(img, self.h1LW_C, strides=[1,1,1,1], padding='SAME' )  \n",
        "      #Salto entre batches, [espacial, espacial], filtro/color        \n",
        "      l1_C = tf.add(l1_C, self.h1LB_C)\n",
        "      l1_C = tf.nn.relu(l1_C)\n",
        "      l1_C = tf.nn.max_pool(l1_C, ksize=2, strides=2, padding='SAME' )\n",
        "      l1_C = self.Normalizar(l1_C)\n",
        "      \n",
        "      # 32 * 32 * 16\n",
        "\n",
        "\n",
        "      l1 = tf.concat([l1_A,l1_B,l1_C],3)\n",
        "      l1 = tf.nn.dropout(l1,rate1)  \n",
        "\n",
        "\n",
        "      #Concatenado de las tres paralelas 32*32*(16+16+16)\n",
        "      \n",
        "      \n",
        "      l2 = tf.nn.conv2d(l1,self.h2LW, strides=[1,1,1,1], padding='SAME')  \n",
        "      l2 = tf.add(l2, self.h2LB)\n",
        "      l2 = tf.nn.relu(l2)\n",
        "      l2 = tf.nn.max_pool(l2, ksize=2, strides=2, padding='SAME')\n",
        "      l2 = self.Normalizar(l2)\n",
        "      l2 = tf.nn.dropout(l2,rate1)  \n",
        "      # 16 * 16 * 32\n",
        "      \n",
        "      #Capas completamente conectadas\n",
        "      l3 = tf.reshape(l2,[-1, 16*16*16])\n",
        "      l3 = tf.add(tf.matmul(l3,self.h3LW),self.h3LB)\n",
        "      l3 = tf.nn.relu(l3)\n",
        "      \n",
        "      l3 = self.Normalizar(l3)\n",
        "\n",
        "      l3 = tf.nn.dropout(l3,rate2)    \n",
        "   \n",
        "      \n",
        "      output = tf.add( tf.matmul(l3,self.outW) , self.outB)\n",
        "      #output = output/tf.reduce_max(output)\n",
        "\n",
        "\n",
        "      return output \n",
        "\n",
        "  \n",
        "  def Normalizar(self, layerIn):\n",
        "      f = tf.reduce_max(abs(layerIn))\n",
        "      m = tf.reduce_mean(layerIn)\n",
        "      s = tf.math.reduce_std(layerIn)\n",
        "      return (layerIn-m)/(s*f)         "
      ],
      "execution_count": 170,
      "outputs": []
    },
    {
      "cell_type": "code",
      "metadata": {
        "id": "1J-2DpCoPHQd"
      },
      "source": [
        "CNN_Esquematicos= CNN_Model2(clases = len(listaDeDispositivosEsquematicos))"
      ],
      "execution_count": 171,
      "outputs": []
    },
    {
      "cell_type": "markdown",
      "metadata": {
        "id": "jdSFp7v_PYgr"
      },
      "source": [
        "#### Entrenamiento 2"
      ]
    },
    {
      "cell_type": "code",
      "metadata": {
        "id": "H5PjyYTIRIt3"
      },
      "source": [
        "\n",
        "def fittingE(model,train_x,train_y,test_x,test_y,\n",
        "            epochs,batchSize,\n",
        "            rate1,rate2,\n",
        "            lamb):\n",
        "\n",
        "\n",
        "  #Mientras el valor de la epoca actual sea menor que la cantidad total de datos:\n",
        "  for epoch in range(epochs):\n",
        "    i=0\n",
        "    \n",
        "    #Bucle del training step\n",
        "      #agregando suffle, diferentes batches cada vez\n",
        "    train_x,train_y = shuffle(train_x,train_y, random_state=None)\n",
        "    while i<len(train_x):\n",
        "      start = i\n",
        "\n",
        "      if (i+batchSize)<len(train_x):\n",
        "        end = i+batchSize  \n",
        "      else:\n",
        "        end = len(train_x)\n",
        "      batch_x = train_x[start:end]\n",
        "      batch_y = train_y[start:end]\n",
        "      \n",
        "      TrainingStep( model, batch_x, batch_y, rate1,rate2,lamb)\n",
        "      \n",
        "      #Guardado\n",
        "      #with trainE_summary_writer.as_default():\n",
        "      #  tf.summary.scalar('loss', train_loss.result(), step=epoch)\n",
        "      #  tf.summary.scalar('accuracy', train_accuracy.result(), step=epoch)\n",
        "\n",
        "      i+=batchSize\n",
        "\n",
        "    TestStep( model,test_x,test_y,lamb )\n",
        "\n",
        "    #Guardado \n",
        "    #with testE_summary_writer.as_default():\n",
        "    #  tf.summary.scalar('loss', test_loss.result(), step=epoch)\n",
        "    #  tf.summary.scalar('accuracy', test_accuracy.result(), step=epoch)\n",
        "      \n",
        "\n",
        "    #Presentación de resultados\n",
        "    template = 'Epoch {0}, Perdida: {1:.3f}, Exactitud: {2:.3f}, Perdida de prueba: {3:.3f}, Exactitud de prueba: {4:.3f}'\n",
        "    if (epoch+1)%5==0:\n",
        "      print(template.format(epoch+1,\n",
        "                        train_loss.result().numpy(),\n",
        "                        train_accuracy.result().numpy()*100,\n",
        "                        test_loss.result().numpy(),\n",
        "                        test_accuracy.result().numpy()*100    )   )\n",
        "    \n",
        "    #Early stopping\n",
        "    if( train_accuracy.result().numpy()>0.90 and test_accuracy.result().numpy()>0.60 ):\n",
        "      print('stop')\n",
        "      break;\n",
        "      \n",
        "    train_loss.reset_states()\n",
        "    train_accuracy.reset_states()\n",
        "    test_loss.reset_states()\n",
        "    test_accuracy.reset_states()\n",
        "\n",
        "    \n",
        "    \n",
        "      "
      ],
      "execution_count": 172,
      "outputs": []
    },
    {
      "cell_type": "markdown",
      "metadata": {
        "id": "TchiB1k7HH8Q"
      },
      "source": [
        "## Carga de modelos pre-entrenados \n",
        "La visualización de resultados utiliza estos modelos, \\\n",
        "para revisar los modelos que se entrenan debe cambiarse los nombres en cuestión."
      ]
    },
    {
      "cell_type": "code",
      "metadata": {
        "id": "UXPY-P66HBH8"
      },
      "source": [
        "\n",
        "os.chdir(dir) #Subimos a directorio principal para cargar de aquí el modelo\n",
        "CNN_E = pickle.load(open('CNN_Esquematicos_Modelo_5', 'rb'))"
      ],
      "execution_count": 173,
      "outputs": []
    },
    {
      "cell_type": "code",
      "metadata": {
        "id": "jhw-UZVuReIr"
      },
      "source": [
        "fittingE( CNN_Esquematicos,x_trainE,y_train_onehotE, x_testE,y_test_onehotE,\n",
        "        epochs= 200, batchSize = 16,\n",
        "        rate1 = 0.6, rate2=0.3,\n",
        "        lamb=1e-6)"
      ],
      "execution_count": null,
      "outputs": []
    },
    {
      "cell_type": "markdown",
      "metadata": {
        "id": "xU06EPMkWCei"
      },
      "source": [
        "#### Ejemplo de evaluación modelo 2"
      ]
    },
    {
      "cell_type": "code",
      "metadata": {
        "colab": {
          "base_uri": "https://localhost:8080/",
          "height": 823
        },
        "id": "6TsHPBzgWCei",
        "outputId": "a68140ac-e966-415f-acd3-d79ec3ec378a"
      },
      "source": [
        "dispositivosE = onehot_encoderE.categories_[0]\n",
        "XE=np.concatenate([x_testE,x_trainE])\n",
        "YE=np.concatenate([y_test_onehotE,y_train_onehotE])\n",
        "fig4 = plt.figure(figsize=(14,14))\n",
        "\n",
        "\n",
        "#Nueve ejemplos \n",
        "for i in range(3):\n",
        "  for j in range (3):\n",
        "    value = np.random.randint(0,len(x_testE))\n",
        "    ejemplo = XE[value]\n",
        "    v       = np.array( CNN_E(ejemplo) )\n",
        "    d       = np.sort(v)[0] #Ordenamiento, los últimos son los más probables de pertenecer\n",
        "    \n",
        "    prediccion  = np.argmax(d[-1]==v)\n",
        "    verdadero   = np.argmax(YE[value])\n",
        "\n",
        "    ax   = fig4.add_subplot(3,3,i*3+(j+1))\n",
        "    ax.imshow(ejemplo)\n",
        "    ax.axis('off')\n",
        "    label='True:'+ str(dispositivosE[verdadero]) + \\\n",
        "     '\\n Predic:'+ str(dispositivosE[prediccion]) \n",
        "    ax.set_title(label )\n",
        "    \n",
        "    \n"
      ],
      "execution_count": 189,
      "outputs": [
        {
          "output_type": "display_data",
          "data": {
            "image/png": "[encoded data removed]",
            "text/plain": [
              "<Figure size 1008x1008 with 9 Axes>"
            ]
          },
          "metadata": {
            "tags": [],
            "needs_background": "light"
          }
        }
      ]
    },
    {
      "cell_type": "markdown",
      "metadata": {
        "id": "XGApQ0CnWCej"
      },
      "source": [
        "#### Matriz de confusión"
      ]
    },
    {
      "cell_type": "code",
      "metadata": {
        "id": "_fAfYKI0WCej"
      },
      "source": [
        "#Matriz de confusión\n",
        "y_test_pred = np.argmax( CNN_E(XE), axis=1)\n",
        "y_test_true  = np.argmax(YE, axis=1)"
      ],
      "execution_count": 190,
      "outputs": []
    },
    {
      "cell_type": "code",
      "metadata": {
        "id": "cgXzyoL8WCej"
      },
      "source": [
        "confusionM = confusion_matrix(y_test_true, y_test_pred)\n"
      ],
      "execution_count": 191,
      "outputs": []
    },
    {
      "cell_type": "code",
      "metadata": {
        "colab": {
          "base_uri": "https://localhost:8080/",
          "height": 580
        },
        "id": "XSMiovxJWCek",
        "outputId": "90a83977-c3d9-47d5-c4a3-a246e32e5f2f"
      },
      "source": [
        "\n",
        "fig, ax = plt.subplots(figsize=(10,10))\n",
        "\n",
        "im = ax.imshow(confusionM , cmap='hot')\n",
        "\n",
        "ax.set_xticks([])\n",
        "ax.set_yticks([])\n",
        "\n",
        "cbar = ax.figure.colorbar(im, ax=ax)\n",
        "cbar.ax.set_ylabel('similitud', rotation=-90, va=\"bottom\")\n",
        "\n",
        "plt.show()"
      ],
      "execution_count": 192,
      "outputs": [
        {
          "output_type": "display_data",
          "data": {
            "image/png": "[encoded data removed]",
            "text/plain": [
              "<Figure size 720x720 with 2 Axes>"
            ]
          },
          "metadata": {
            "tags": [],
            "needs_background": "light"
          }
        }
      ]
    },
    {
      "cell_type": "markdown",
      "metadata": {
        "id": "4gCok_qCPTz8"
      },
      "source": [
        "### Guardado de los modelos y su respectiva carga"
      ]
    },
    {
      "cell_type": "code",
      "metadata": {
        "id": "AJJepI-Maipz"
      },
      "source": [
        "#Guardado de los datos, comentado\n",
        "#os.chdir(dir) #Subimos a directorio principal para guardar aquí el modelo\n",
        "#pickle.dump(CNN_Componentes, open('CNN_Componentes_Modelo_3', 'wb'))\n",
        "#pickle.dump(CNN_Esquematicos, open('CNN_Esquematicos_Modelo_5', 'wb'))\n",
        "  "
      ],
      "execution_count": 179,
      "outputs": []
    },
    {
      "cell_type": "code",
      "metadata": {
        "id": "02BTRePOJRBR"
      },
      "source": [
        ""
      ],
      "execution_count": null,
      "outputs": []
    }
  ]
}